{
 "cells": [
  {
   "cell_type": "markdown",
   "metadata": {},
   "source": [
    "# Auto loans default"
   ]
  },
  {
   "cell_type": "markdown",
   "metadata": {},
   "source": [
    "The project is about analysis and predition based on the data regarding auto loans defaults. The goal is to find out what are the main factors impacting if the client deafults on the auto loan or not. It consist of exploratory data analysis, feauture engineering, some visualization and model creation and tuning. \n",
    "\n",
    "Source of data:\n",
    "https://www.kaggle.com/datasets/saurabhbagchi/dish-network-hackathon?select=Data_Dictionary.csv\n"
   ]
  },
  {
   "cell_type": "code",
   "execution_count": 1,
   "metadata": {},
   "outputs": [],
   "source": [
    "#Importing neccessery libraries\n",
    "\n",
    "import numpy as np\n",
    "import pandas as pd\n",
    "import matplotlib.pyplot as plt\n",
    "import seaborn as sns\n",
    "from sklearn.model_selection import train_test_split\n",
    "from sklearn.tree import DecisionTreeClassifier\n",
    "from sklearn.metrics import accuracy_score,plot_confusion_matrix,classification_report\n",
    "from sklearn.ensemble import RandomForestClassifier\n",
    "from sklearn.ensemble import GradientBoostingClassifier,AdaBoostClassifier\n",
    "from sklearn import svm\n",
    "\n",
    "pd.set_option('display.max_columns', None)\n",
    "pd.options.display.max_colwidth = 150 # Option to see the entire content of the description\n"
   ]
  },
  {
   "cell_type": "markdown",
   "metadata": {},
   "source": [
    "# Data\n",
    "\n",
    "Since that was a contest, the data is already splitted into train and test. I will be using only train data. The \"data_dictionary\" is the description of columns. \n"
   ]
  },
  {
   "cell_type": "code",
   "execution_count": 2,
   "metadata": {},
   "outputs": [],
   "source": [
    "# Reading the data\n",
    "\n",
    "data_dictionary = pd.read_csv('Data_Dictionary.csv')\n",
    "train = pd.read_csv(\"Train_Dataset.csv\", dtype = 'str')"
   ]
  },
  {
   "cell_type": "markdown",
   "metadata": {},
   "source": [
    "During the reading of the files the warning was triggered: \n",
    "\n",
    "\"<i>DtypeWarning: Columns (1,7,8,16,17,18,19,20,35) have mixed types.Specify dtype option on import or set low_memory=False</i>\". \n",
    "\n",
    "Since there are columns with mixed types, I decided to treat all of the columns as a objects (strings), and then change them according to type/description of given column."
   ]
  },
  {
   "cell_type": "code",
   "execution_count": 3,
   "metadata": {
    "scrolled": false
   },
   "outputs": [
    {
     "data": {
      "text/html": [
       "<div>\n",
       "<style scoped>\n",
       "    .dataframe tbody tr th:only-of-type {\n",
       "        vertical-align: middle;\n",
       "    }\n",
       "\n",
       "    .dataframe tbody tr th {\n",
       "        vertical-align: top;\n",
       "    }\n",
       "\n",
       "    .dataframe thead th {\n",
       "        text-align: right;\n",
       "    }\n",
       "</style>\n",
       "<table border=\"1\" class=\"dataframe\">\n",
       "  <thead>\n",
       "    <tr style=\"text-align: right;\">\n",
       "      <th></th>\n",
       "      <th>Variable</th>\n",
       "      <th>Description</th>\n",
       "    </tr>\n",
       "  </thead>\n",
       "  <tbody>\n",
       "    <tr>\n",
       "      <th>0</th>\n",
       "      <td>ID</td>\n",
       "      <td>Client Loan application ID</td>\n",
       "    </tr>\n",
       "    <tr>\n",
       "      <th>1</th>\n",
       "      <td>Client_Income</td>\n",
       "      <td>Client Income in $</td>\n",
       "    </tr>\n",
       "    <tr>\n",
       "      <th>2</th>\n",
       "      <td>Car_Owned</td>\n",
       "      <td>Any Car owned by client before applying for the loan for another car (0 means No and 1 means otherwise)</td>\n",
       "    </tr>\n",
       "    <tr>\n",
       "      <th>3</th>\n",
       "      <td>Bike_Owned</td>\n",
       "      <td>Any bike owned by client (0 means No and 1 means otherwise)</td>\n",
       "    </tr>\n",
       "    <tr>\n",
       "      <th>4</th>\n",
       "      <td>Active_Loan</td>\n",
       "      <td>Any other active loan at the time of aplication of loan (0 means No and 1 means otherwise)</td>\n",
       "    </tr>\n",
       "    <tr>\n",
       "      <th>5</th>\n",
       "      <td>House_Own</td>\n",
       "      <td>Any house owned by client (0 means No and 1 means otherwise)</td>\n",
       "    </tr>\n",
       "    <tr>\n",
       "      <th>6</th>\n",
       "      <td>Child_Count</td>\n",
       "      <td>Number of children the client has</td>\n",
       "    </tr>\n",
       "    <tr>\n",
       "      <th>7</th>\n",
       "      <td>Credit_Amount</td>\n",
       "      <td>Credit amount of the loan in $</td>\n",
       "    </tr>\n",
       "    <tr>\n",
       "      <th>8</th>\n",
       "      <td>Loan_Annuity</td>\n",
       "      <td>Loan annuity in $</td>\n",
       "    </tr>\n",
       "    <tr>\n",
       "      <th>9</th>\n",
       "      <td>Accompany_Client</td>\n",
       "      <td>Who accompanied the client when client applied for the loan</td>\n",
       "    </tr>\n",
       "    <tr>\n",
       "      <th>10</th>\n",
       "      <td>Client_Income_Type</td>\n",
       "      <td>Clients income type</td>\n",
       "    </tr>\n",
       "    <tr>\n",
       "      <th>11</th>\n",
       "      <td>Client_Education</td>\n",
       "      <td>Highest level of education ahieved by client</td>\n",
       "    </tr>\n",
       "    <tr>\n",
       "      <th>12</th>\n",
       "      <td>Client_Marital_Status</td>\n",
       "      <td>Marital status of client (D- Divorced, S- Single, M- Married, W- Widowed)</td>\n",
       "    </tr>\n",
       "    <tr>\n",
       "      <th>13</th>\n",
       "      <td>Client_Gender</td>\n",
       "      <td>Gender of the Client</td>\n",
       "    </tr>\n",
       "    <tr>\n",
       "      <th>14</th>\n",
       "      <td>Loan_Contract_Type</td>\n",
       "      <td>Loan Type (CL- Cash Loan, RL- Revolving Loan)</td>\n",
       "    </tr>\n",
       "    <tr>\n",
       "      <th>15</th>\n",
       "      <td>Client_Housing_Type</td>\n",
       "      <td>Client Housing situation</td>\n",
       "    </tr>\n",
       "    <tr>\n",
       "      <th>16</th>\n",
       "      <td>Population_Region_Relative</td>\n",
       "      <td>Relative population of the region where the client is living. Higher value means the client is living in more populated area</td>\n",
       "    </tr>\n",
       "    <tr>\n",
       "      <th>17</th>\n",
       "      <td>Age_Days</td>\n",
       "      <td>Age of the client at the time of application submission</td>\n",
       "    </tr>\n",
       "    <tr>\n",
       "      <th>18</th>\n",
       "      <td>Employed_Days</td>\n",
       "      <td>Days before the application, the client started earning</td>\n",
       "    </tr>\n",
       "    <tr>\n",
       "      <th>19</th>\n",
       "      <td>Registration_Days</td>\n",
       "      <td>Days before the loan application, the client changed his/her registration</td>\n",
       "    </tr>\n",
       "    <tr>\n",
       "      <th>20</th>\n",
       "      <td>ID_Days</td>\n",
       "      <td>Days before the loan application, the client changed his/her identity document with which the loan was applied</td>\n",
       "    </tr>\n",
       "    <tr>\n",
       "      <th>21</th>\n",
       "      <td>Own_House_Age</td>\n",
       "      <td>Age of Client's house in years</td>\n",
       "    </tr>\n",
       "    <tr>\n",
       "      <th>22</th>\n",
       "      <td>Mobile_Tag</td>\n",
       "      <td>Mobile Number provided by Client (1 means Yes and 0 means No)</td>\n",
       "    </tr>\n",
       "    <tr>\n",
       "      <th>23</th>\n",
       "      <td>Homephone_Tag</td>\n",
       "      <td>Homephone Number provided by Client (1 means Yes and 0 means No)</td>\n",
       "    </tr>\n",
       "    <tr>\n",
       "      <th>24</th>\n",
       "      <td>Workphone_Working</td>\n",
       "      <td>Was workphone number reachable (1 means Yes and 0 means No)</td>\n",
       "    </tr>\n",
       "    <tr>\n",
       "      <th>25</th>\n",
       "      <td>Client_Occupation</td>\n",
       "      <td>Client Occupation type</td>\n",
       "    </tr>\n",
       "    <tr>\n",
       "      <th>26</th>\n",
       "      <td>Client_Family_Members</td>\n",
       "      <td>Number of family members does client have</td>\n",
       "    </tr>\n",
       "    <tr>\n",
       "      <th>27</th>\n",
       "      <td>Cleint_City_Rating</td>\n",
       "      <td>Client city rating. 3 denotes best and 2 denotes good and 1 denotes average</td>\n",
       "    </tr>\n",
       "    <tr>\n",
       "      <th>28</th>\n",
       "      <td>Application_Process_Day</td>\n",
       "      <td>Day of the week on which client applied for the loan (0-Sun, 1-Mon,2-Tues, 3-Wed, 4-Thrus,5-Fri, 6-Sat)</td>\n",
       "    </tr>\n",
       "    <tr>\n",
       "      <th>29</th>\n",
       "      <td>Application_Process_Hour</td>\n",
       "      <td>hour of the day on which client applied for the loan</td>\n",
       "    </tr>\n",
       "    <tr>\n",
       "      <th>30</th>\n",
       "      <td>Client_Permanent_Match_Tag</td>\n",
       "      <td>Indication if client contact address does not match permanent address.</td>\n",
       "    </tr>\n",
       "    <tr>\n",
       "      <th>31</th>\n",
       "      <td>Client_Contact_Work_Tag</td>\n",
       "      <td>Indication if client work address does not match contact address.</td>\n",
       "    </tr>\n",
       "    <tr>\n",
       "      <th>32</th>\n",
       "      <td>Type_Organization</td>\n",
       "      <td>Type of organization where client works</td>\n",
       "    </tr>\n",
       "    <tr>\n",
       "      <th>33</th>\n",
       "      <td>Score_Source_1</td>\n",
       "      <td>Score sourced from other source. This is a normalzied socre</td>\n",
       "    </tr>\n",
       "    <tr>\n",
       "      <th>34</th>\n",
       "      <td>Score_Source_2</td>\n",
       "      <td>Score sourced from other source. This is a normalzied socre</td>\n",
       "    </tr>\n",
       "    <tr>\n",
       "      <th>35</th>\n",
       "      <td>Score_Source_3</td>\n",
       "      <td>Score sourced from other source. This is a normalzied socre</td>\n",
       "    </tr>\n",
       "    <tr>\n",
       "      <th>36</th>\n",
       "      <td>Social_Circle_Default</td>\n",
       "      <td>How many friends/family member of client defaulted on any loan payment in last 60 days</td>\n",
       "    </tr>\n",
       "    <tr>\n",
       "      <th>37</th>\n",
       "      <td>Phone_Change</td>\n",
       "      <td>How many days before the loan application, client changed his/her phone</td>\n",
       "    </tr>\n",
       "    <tr>\n",
       "      <th>38</th>\n",
       "      <td>Credit_Bureau</td>\n",
       "      <td>Total number of enquiries in last year</td>\n",
       "    </tr>\n",
       "    <tr>\n",
       "      <th>39</th>\n",
       "      <td>Default</td>\n",
       "      <td>1 means the client defaulted on loan payments and 0 means otherwise</td>\n",
       "    </tr>\n",
       "  </tbody>\n",
       "</table>\n",
       "</div>"
      ],
      "text/plain": [
       "                      Variable  \\\n",
       "0                           ID   \n",
       "1                Client_Income   \n",
       "2                    Car_Owned   \n",
       "3                   Bike_Owned   \n",
       "4                  Active_Loan   \n",
       "5                    House_Own   \n",
       "6                  Child_Count   \n",
       "7                Credit_Amount   \n",
       "8                 Loan_Annuity   \n",
       "9             Accompany_Client   \n",
       "10          Client_Income_Type   \n",
       "11            Client_Education   \n",
       "12       Client_Marital_Status   \n",
       "13               Client_Gender   \n",
       "14          Loan_Contract_Type   \n",
       "15         Client_Housing_Type   \n",
       "16  Population_Region_Relative   \n",
       "17                    Age_Days   \n",
       "18               Employed_Days   \n",
       "19           Registration_Days   \n",
       "20                     ID_Days   \n",
       "21               Own_House_Age   \n",
       "22                  Mobile_Tag   \n",
       "23               Homephone_Tag   \n",
       "24           Workphone_Working   \n",
       "25           Client_Occupation   \n",
       "26       Client_Family_Members   \n",
       "27          Cleint_City_Rating   \n",
       "28     Application_Process_Day   \n",
       "29    Application_Process_Hour   \n",
       "30  Client_Permanent_Match_Tag   \n",
       "31     Client_Contact_Work_Tag   \n",
       "32           Type_Organization   \n",
       "33              Score_Source_1   \n",
       "34              Score_Source_2   \n",
       "35              Score_Source_3   \n",
       "36       Social_Circle_Default   \n",
       "37                Phone_Change   \n",
       "38               Credit_Bureau   \n",
       "39                     Default   \n",
       "\n",
       "                                                                                                                     Description  \n",
       "0                                                                                                     Client Loan application ID  \n",
       "1                                                                                                             Client Income in $  \n",
       "2                        Any Car owned by client before applying for the loan for another car (0 means No and 1 means otherwise)  \n",
       "3                                                                    Any bike owned by client (0 means No and 1 means otherwise)  \n",
       "4                                     Any other active loan at the time of aplication of loan (0 means No and 1 means otherwise)  \n",
       "5                                                                   Any house owned by client (0 means No and 1 means otherwise)  \n",
       "6                                                                                              Number of children the client has  \n",
       "7                                                                                                 Credit amount of the loan in $  \n",
       "8                                                                                                              Loan annuity in $  \n",
       "9                                                                    Who accompanied the client when client applied for the loan  \n",
       "10                                                                                                           Clients income type  \n",
       "11                                                                                  Highest level of education ahieved by client  \n",
       "12                                                     Marital status of client (D- Divorced, S- Single, M- Married, W- Widowed)  \n",
       "13                                                                                                          Gender of the Client  \n",
       "14                                                                                 Loan Type (CL- Cash Loan, RL- Revolving Loan)  \n",
       "15                                                                                                      Client Housing situation  \n",
       "16  Relative population of the region where the client is living. Higher value means the client is living in more populated area  \n",
       "17                                                                       Age of the client at the time of application submission  \n",
       "18                                                                       Days before the application, the client started earning  \n",
       "19                                                     Days before the loan application, the client changed his/her registration  \n",
       "20                Days before the loan application, the client changed his/her identity document with which the loan was applied  \n",
       "21                                                                                                Age of Client's house in years  \n",
       "22                                                                 Mobile Number provided by Client (1 means Yes and 0 means No)  \n",
       "23                                                              Homephone Number provided by Client (1 means Yes and 0 means No)  \n",
       "24                                                                   Was workphone number reachable (1 means Yes and 0 means No)  \n",
       "25                                                                                                        Client Occupation type  \n",
       "26                                                                                     Number of family members does client have  \n",
       "27                                                   Client city rating. 3 denotes best and 2 denotes good and 1 denotes average  \n",
       "28                       Day of the week on which client applied for the loan (0-Sun, 1-Mon,2-Tues, 3-Wed, 4-Thrus,5-Fri, 6-Sat)  \n",
       "29                                                                          hour of the day on which client applied for the loan  \n",
       "30                                                        Indication if client contact address does not match permanent address.  \n",
       "31                                                             Indication if client work address does not match contact address.  \n",
       "32                                                                                       Type of organization where client works  \n",
       "33                                                                   Score sourced from other source. This is a normalzied socre  \n",
       "34                                                                   Score sourced from other source. This is a normalzied socre  \n",
       "35                                                                   Score sourced from other source. This is a normalzied socre  \n",
       "36                                        How many friends/family member of client defaulted on any loan payment in last 60 days  \n",
       "37                                                       How many days before the loan application, client changed his/her phone  \n",
       "38                                                                                        Total number of enquiries in last year  \n",
       "39                                                           1 means the client defaulted on loan payments and 0 means otherwise  "
      ]
     },
     "execution_count": 3,
     "metadata": {},
     "output_type": "execute_result"
    }
   ],
   "source": [
    "data_dictionary"
   ]
  },
  {
   "cell_type": "markdown",
   "metadata": {},
   "source": [
    "There are 40 columns in total; Some of them are quite typical for credit risk analysis like income, loan amount, education, financial situation or number of issues. Additionally we also have information that potentially look irrelevant (e.g. day of the week and hour that client applied for a loan or age of ID document), but may surprisingly prove otherwise.\n",
    "\n",
    "Last column (\"Default\") is to indicate the the client defaulted or not. This is going to be the target value for training and then predicting. "
   ]
  },
  {
   "cell_type": "markdown",
   "metadata": {},
   "source": [
    "### Data cleaning, feauture engineering\n",
    "\n"
   ]
  },
  {
   "cell_type": "markdown",
   "metadata": {},
   "source": [
    "There is some work to be done to redefine types of some columns, remove the outliers and creating dummy values."
   ]
  },
  {
   "cell_type": "code",
   "execution_count": 4,
   "metadata": {
    "scrolled": true
   },
   "outputs": [
    {
     "name": "stdout",
     "output_type": "stream",
     "text": [
      "<class 'pandas.core.frame.DataFrame'>\n",
      "RangeIndex: 121856 entries, 0 to 121855\n",
      "Data columns (total 40 columns):\n",
      " #   Column                      Non-Null Count   Dtype \n",
      "---  ------                      --------------   ----- \n",
      " 0   ID                          121856 non-null  object\n",
      " 1   Client_Income               118249 non-null  object\n",
      " 2   Car_Owned                   118275 non-null  object\n",
      " 3   Bike_Owned                  118232 non-null  object\n",
      " 4   Active_Loan                 118221 non-null  object\n",
      " 5   House_Own                   118195 non-null  object\n",
      " 6   Child_Count                 118218 non-null  object\n",
      " 7   Credit_Amount               118224 non-null  object\n",
      " 8   Loan_Annuity                117044 non-null  object\n",
      " 9   Accompany_Client            120110 non-null  object\n",
      " 10  Client_Income_Type          118155 non-null  object\n",
      " 11  Client_Education            118211 non-null  object\n",
      " 12  Client_Marital_Status       118383 non-null  object\n",
      " 13  Client_Gender               119443 non-null  object\n",
      " 14  Loan_Contract_Type          118205 non-null  object\n",
      " 15  Client_Housing_Type         118169 non-null  object\n",
      " 16  Population_Region_Relative  116999 non-null  object\n",
      " 17  Age_Days                    118256 non-null  object\n",
      " 18  Employed_Days               118207 non-null  object\n",
      " 19  Registration_Days           118242 non-null  object\n",
      " 20  ID_Days                     115888 non-null  object\n",
      " 21  Own_House_Age               41761 non-null   object\n",
      " 22  Mobile_Tag                  121856 non-null  object\n",
      " 23  Homephone_Tag               121856 non-null  object\n",
      " 24  Workphone_Working           121856 non-null  object\n",
      " 25  Client_Occupation           80421 non-null   object\n",
      " 26  Client_Family_Members       119446 non-null  object\n",
      " 27  Cleint_City_Rating          119447 non-null  object\n",
      " 28  Application_Process_Day     119428 non-null  object\n",
      " 29  Application_Process_Hour    118193 non-null  object\n",
      " 30  Client_Permanent_Match_Tag  121856 non-null  object\n",
      " 31  Client_Contact_Work_Tag     121856 non-null  object\n",
      " 32  Type_Organization           118247 non-null  object\n",
      " 33  Score_Source_1              53021 non-null   object\n",
      " 34  Score_Source_2              116170 non-null  object\n",
      " 35  Score_Source_3              94935 non-null   object\n",
      " 36  Social_Circle_Default       59928 non-null   object\n",
      " 37  Phone_Change                118192 non-null  object\n",
      " 38  Credit_Bureau               103316 non-null  object\n",
      " 39  Default                     121856 non-null  object\n",
      "dtypes: object(40)\n",
      "memory usage: 37.2+ MB\n"
     ]
    }
   ],
   "source": [
    "train.info()"
   ]
  },
  {
   "cell_type": "code",
   "execution_count": 5,
   "metadata": {},
   "outputs": [],
   "source": [
    "# Removing ID column - no value added\n",
    "train = train.drop('ID', axis = 1)"
   ]
  },
  {
   "cell_type": "code",
   "execution_count": 6,
   "metadata": {},
   "outputs": [],
   "source": [
    "#Correction of column name Client City Rating\n",
    "train.rename(columns = {\"Cleint_City_Rating\":\"Client_City_Rating\"}, inplace = True)"
   ]
  },
  {
   "cell_type": "code",
   "execution_count": 7,
   "metadata": {
    "scrolled": false
   },
   "outputs": [],
   "source": [
    "# % of missing values for given columns, sorted\n",
    "\n",
    "def missing_values(dataframe):\n",
    "    count = dataframe.isna().sum().sort_values(ascending=False)\n",
    "    percentage = dataframe.isna().sum().sort_values(ascending=False)/len(dataframe)*100 \n",
    "    missing = pd.concat([count,percentage],axis = 1)\n",
    "    missing.columns = ['count', '% of total']\n",
    "    \n",
    "    return missing\n",
    "\n",
    "#imputing methods: \n",
    "\n",
    "def impute_nan(column, value_from):\n",
    "    train.loc[train[column].str.contains(value_from) == True, column] = np.nan \n",
    "    \n",
    "def impute_value(columns, fill_value=0):\n",
    "    if type(columns) == list:\n",
    "        for col in columns:\n",
    "            if fill_value == \"mean\":\n",
    "                subset = train[col]\n",
    "                train[col].fillna(subset.mean(), inplace = True)\n",
    "            else:\n",
    "                train[col].fillna(fill_value, inplace = True)\n",
    "    else:\n",
    "        if fill_value == \"mean\":\n",
    "            subset = train[columns]\n",
    "            train[columns].fillna(subset.mean(), inplace = True)\n",
    "        else:\n",
    "            train[columns].fillna(fill_value, inplace = True)\n",
    "        "
   ]
  },
  {
   "cell_type": "code",
   "execution_count": 8,
   "metadata": {},
   "outputs": [],
   "source": [
    "# remove rows where there is no the amount of the credit\n",
    "train.dropna(subset=['Credit_Amount'], inplace = True)"
   ]
  },
  {
   "cell_type": "code",
   "execution_count": 9,
   "metadata": {
    "scrolled": true
   },
   "outputs": [
    {
     "data": {
      "text/html": [
       "<div>\n",
       "<style scoped>\n",
       "    .dataframe tbody tr th:only-of-type {\n",
       "        vertical-align: middle;\n",
       "    }\n",
       "\n",
       "    .dataframe tbody tr th {\n",
       "        vertical-align: top;\n",
       "    }\n",
       "\n",
       "    .dataframe thead th {\n",
       "        text-align: right;\n",
       "    }\n",
       "</style>\n",
       "<table border=\"1\" class=\"dataframe\">\n",
       "  <thead>\n",
       "    <tr style=\"text-align: right;\">\n",
       "      <th></th>\n",
       "      <th>count</th>\n",
       "      <th>% of total</th>\n",
       "    </tr>\n",
       "  </thead>\n",
       "  <tbody>\n",
       "    <tr>\n",
       "      <th>Own_House_Age</th>\n",
       "      <td>77697</td>\n",
       "      <td>65.720158</td>\n",
       "    </tr>\n",
       "    <tr>\n",
       "      <th>Score_Source_1</th>\n",
       "      <td>66831</td>\n",
       "      <td>56.529131</td>\n",
       "    </tr>\n",
       "    <tr>\n",
       "      <th>Social_Circle_Default</th>\n",
       "      <td>60130</td>\n",
       "      <td>50.861077</td>\n",
       "    </tr>\n",
       "    <tr>\n",
       "      <th>Client_Occupation</th>\n",
       "      <td>40161</td>\n",
       "      <td>33.970260</td>\n",
       "    </tr>\n",
       "    <tr>\n",
       "      <th>Score_Source_3</th>\n",
       "      <td>26132</td>\n",
       "      <td>22.103803</td>\n",
       "    </tr>\n",
       "    <tr>\n",
       "      <th>Credit_Bureau</th>\n",
       "      <td>17960</td>\n",
       "      <td>15.191501</td>\n",
       "    </tr>\n",
       "    <tr>\n",
       "      <th>ID_Days</th>\n",
       "      <td>5791</td>\n",
       "      <td>4.898329</td>\n",
       "    </tr>\n",
       "    <tr>\n",
       "      <th>Score_Source_2</th>\n",
       "      <td>5513</td>\n",
       "      <td>4.663182</td>\n",
       "    </tr>\n",
       "    <tr>\n",
       "      <th>Population_Region_Relative</th>\n",
       "      <td>4696</td>\n",
       "      <td>3.972121</td>\n",
       "    </tr>\n",
       "    <tr>\n",
       "      <th>Loan_Annuity</th>\n",
       "      <td>4667</td>\n",
       "      <td>3.947591</td>\n",
       "    </tr>\n",
       "    <tr>\n",
       "      <th>Client_Income_Type</th>\n",
       "      <td>3590</td>\n",
       "      <td>3.036608</td>\n",
       "    </tr>\n",
       "    <tr>\n",
       "      <th>Client_Housing_Type</th>\n",
       "      <td>3579</td>\n",
       "      <td>3.027304</td>\n",
       "    </tr>\n",
       "    <tr>\n",
       "      <th>Application_Process_Hour</th>\n",
       "      <td>3567</td>\n",
       "      <td>3.017154</td>\n",
       "    </tr>\n",
       "    <tr>\n",
       "      <th>Client_Education</th>\n",
       "      <td>3553</td>\n",
       "      <td>3.005312</td>\n",
       "    </tr>\n",
       "    <tr>\n",
       "      <th>House_Own</th>\n",
       "      <td>3546</td>\n",
       "      <td>2.999391</td>\n",
       "    </tr>\n",
       "    <tr>\n",
       "      <th>Phone_Change</th>\n",
       "      <td>3542</td>\n",
       "      <td>2.996008</td>\n",
       "    </tr>\n",
       "    <tr>\n",
       "      <th>Employed_Days</th>\n",
       "      <td>3540</td>\n",
       "      <td>2.994316</td>\n",
       "    </tr>\n",
       "    <tr>\n",
       "      <th>Loan_Contract_Type</th>\n",
       "      <td>3537</td>\n",
       "      <td>2.991778</td>\n",
       "    </tr>\n",
       "    <tr>\n",
       "      <th>Child_Count</th>\n",
       "      <td>3533</td>\n",
       "      <td>2.988395</td>\n",
       "    </tr>\n",
       "    <tr>\n",
       "      <th>Bike_Owned</th>\n",
       "      <td>3520</td>\n",
       "      <td>2.977399</td>\n",
       "    </tr>\n",
       "    <tr>\n",
       "      <th>Active_Loan</th>\n",
       "      <td>3519</td>\n",
       "      <td>2.976553</td>\n",
       "    </tr>\n",
       "    <tr>\n",
       "      <th>Type_Organization</th>\n",
       "      <td>3505</td>\n",
       "      <td>2.964711</td>\n",
       "    </tr>\n",
       "    <tr>\n",
       "      <th>Registration_Days</th>\n",
       "      <td>3501</td>\n",
       "      <td>2.961328</td>\n",
       "    </tr>\n",
       "    <tr>\n",
       "      <th>Age_Days</th>\n",
       "      <td>3501</td>\n",
       "      <td>2.961328</td>\n",
       "    </tr>\n",
       "    <tr>\n",
       "      <th>Client_Income</th>\n",
       "      <td>3497</td>\n",
       "      <td>2.957944</td>\n",
       "    </tr>\n",
       "    <tr>\n",
       "      <th>Car_Owned</th>\n",
       "      <td>3490</td>\n",
       "      <td>2.952023</td>\n",
       "    </tr>\n",
       "    <tr>\n",
       "      <th>Client_Marital_Status</th>\n",
       "      <td>3377</td>\n",
       "      <td>2.856442</td>\n",
       "    </tr>\n",
       "    <tr>\n",
       "      <th>Application_Process_Day</th>\n",
       "      <td>2361</td>\n",
       "      <td>1.997056</td>\n",
       "    </tr>\n",
       "    <tr>\n",
       "      <th>Client_City_Rating</th>\n",
       "      <td>2349</td>\n",
       "      <td>1.986906</td>\n",
       "    </tr>\n",
       "    <tr>\n",
       "      <th>Client_Gender</th>\n",
       "      <td>2323</td>\n",
       "      <td>1.964914</td>\n",
       "    </tr>\n",
       "    <tr>\n",
       "      <th>Client_Family_Members</th>\n",
       "      <td>2319</td>\n",
       "      <td>1.961531</td>\n",
       "    </tr>\n",
       "    <tr>\n",
       "      <th>Accompany_Client</th>\n",
       "      <td>1677</td>\n",
       "      <td>1.418494</td>\n",
       "    </tr>\n",
       "    <tr>\n",
       "      <th>Mobile_Tag</th>\n",
       "      <td>0</td>\n",
       "      <td>0.000000</td>\n",
       "    </tr>\n",
       "    <tr>\n",
       "      <th>Homephone_Tag</th>\n",
       "      <td>0</td>\n",
       "      <td>0.000000</td>\n",
       "    </tr>\n",
       "    <tr>\n",
       "      <th>Workphone_Working</th>\n",
       "      <td>0</td>\n",
       "      <td>0.000000</td>\n",
       "    </tr>\n",
       "    <tr>\n",
       "      <th>Credit_Amount</th>\n",
       "      <td>0</td>\n",
       "      <td>0.000000</td>\n",
       "    </tr>\n",
       "    <tr>\n",
       "      <th>Client_Permanent_Match_Tag</th>\n",
       "      <td>0</td>\n",
       "      <td>0.000000</td>\n",
       "    </tr>\n",
       "    <tr>\n",
       "      <th>Client_Contact_Work_Tag</th>\n",
       "      <td>0</td>\n",
       "      <td>0.000000</td>\n",
       "    </tr>\n",
       "    <tr>\n",
       "      <th>Default</th>\n",
       "      <td>0</td>\n",
       "      <td>0.000000</td>\n",
       "    </tr>\n",
       "  </tbody>\n",
       "</table>\n",
       "</div>"
      ],
      "text/plain": [
       "                            count  % of total\n",
       "Own_House_Age               77697   65.720158\n",
       "Score_Source_1              66831   56.529131\n",
       "Social_Circle_Default       60130   50.861077\n",
       "Client_Occupation           40161   33.970260\n",
       "Score_Source_3              26132   22.103803\n",
       "Credit_Bureau               17960   15.191501\n",
       "ID_Days                      5791    4.898329\n",
       "Score_Source_2               5513    4.663182\n",
       "Population_Region_Relative   4696    3.972121\n",
       "Loan_Annuity                 4667    3.947591\n",
       "Client_Income_Type           3590    3.036608\n",
       "Client_Housing_Type          3579    3.027304\n",
       "Application_Process_Hour     3567    3.017154\n",
       "Client_Education             3553    3.005312\n",
       "House_Own                    3546    2.999391\n",
       "Phone_Change                 3542    2.996008\n",
       "Employed_Days                3540    2.994316\n",
       "Loan_Contract_Type           3537    2.991778\n",
       "Child_Count                  3533    2.988395\n",
       "Bike_Owned                   3520    2.977399\n",
       "Active_Loan                  3519    2.976553\n",
       "Type_Organization            3505    2.964711\n",
       "Registration_Days            3501    2.961328\n",
       "Age_Days                     3501    2.961328\n",
       "Client_Income                3497    2.957944\n",
       "Car_Owned                    3490    2.952023\n",
       "Client_Marital_Status        3377    2.856442\n",
       "Application_Process_Day      2361    1.997056\n",
       "Client_City_Rating           2349    1.986906\n",
       "Client_Gender                2323    1.964914\n",
       "Client_Family_Members        2319    1.961531\n",
       "Accompany_Client             1677    1.418494\n",
       "Mobile_Tag                      0    0.000000\n",
       "Homephone_Tag                   0    0.000000\n",
       "Workphone_Working               0    0.000000\n",
       "Credit_Amount                   0    0.000000\n",
       "Client_Permanent_Match_Tag      0    0.000000\n",
       "Client_Contact_Work_Tag         0    0.000000\n",
       "Default                         0    0.000000"
      ]
     },
     "execution_count": 9,
     "metadata": {},
     "output_type": "execute_result"
    }
   ],
   "source": [
    "missing_values(train)"
   ]
  },
  {
   "cell_type": "markdown",
   "metadata": {},
   "source": [
    "The are several columns where the missing values are more than 10% in the whole dataset. The approach to missing values differs depending on % of missing values and type of column. For columns with very high missing values the most effective way is to remove the whole column. For other, dropping the rows or imputing the values may be reasonable."
   ]
  },
  {
   "cell_type": "code",
   "execution_count": 10,
   "metadata": {},
   "outputs": [],
   "source": [
    "#Removing the columns with the highest number of missing values\n",
    "train.drop(['Own_House_Age', 'Score_Source_1', 'Social_Circle_Default'], axis =1, inplace = True)"
   ]
  },
  {
   "cell_type": "markdown",
   "metadata": {},
   "source": [
    "Additionally it makes sense to remove the entire rows for columns with lower than 2% of missing values. Such loss in data will not make the significant impact to the model. "
   ]
  },
  {
   "cell_type": "code",
   "execution_count": 11,
   "metadata": {},
   "outputs": [],
   "source": [
    "#Dropping entire rows if the missing data for feauture is less than 2% of total. \n",
    "subset_col = missing_values(train)[missing_values(train)['% of total']<2].index.tolist()\n",
    "train.dropna(axis = 0, subset=subset_col, inplace = True)"
   ]
  },
  {
   "cell_type": "markdown",
   "metadata": {},
   "source": [
    "For Client occupation and Client education I decided to use \"Unknown\" for NaN values. This is because I think there may be some valuable information coming from others types of occupation and eduction, and the number of missing values is still too high to remove entire rows. "
   ]
  },
  {
   "cell_type": "code",
   "execution_count": 12,
   "metadata": {},
   "outputs": [],
   "source": [
    "impute_value(['Client_Occupation', 'Client_Education'], 'Unknown')"
   ]
  },
  {
   "cell_type": "markdown",
   "metadata": {},
   "source": [
    "Almost 40% values of Score Source_3 is missing, however I think that if the distribution is well-balances we can impute here the mean value. First, we need to change the type of column. For starters, let me replace the unwanted characters from data. The same applies to Score Source_2. "
   ]
  },
  {
   "cell_type": "code",
   "execution_count": 13,
   "metadata": {},
   "outputs": [],
   "source": [
    "impute_nan(\"Score_Source_3\", \"&\")"
   ]
  },
  {
   "cell_type": "code",
   "execution_count": 14,
   "metadata": {},
   "outputs": [],
   "source": [
    "#changing the data type to float\n",
    "train['Score_Source_3'] = train['Score_Source_3'].astype('float')\n",
    "train['Score_Source_2'] = train['Score_Source_2'].astype('float')"
   ]
  },
  {
   "cell_type": "code",
   "execution_count": 15,
   "metadata": {
    "scrolled": true
   },
   "outputs": [
    {
     "data": {
      "text/html": [
       "<div>\n",
       "<style scoped>\n",
       "    .dataframe tbody tr th:only-of-type {\n",
       "        vertical-align: middle;\n",
       "    }\n",
       "\n",
       "    .dataframe tbody tr th {\n",
       "        vertical-align: top;\n",
       "    }\n",
       "\n",
       "    .dataframe thead th {\n",
       "        text-align: right;\n",
       "    }\n",
       "</style>\n",
       "<table border=\"1\" class=\"dataframe\">\n",
       "  <thead>\n",
       "    <tr style=\"text-align: right;\">\n",
       "      <th></th>\n",
       "      <th>Score_Source_3</th>\n",
       "      <th>Score_Source_2</th>\n",
       "    </tr>\n",
       "  </thead>\n",
       "  <tbody>\n",
       "    <tr>\n",
       "      <th>count</th>\n",
       "      <td>83861.000000</td>\n",
       "      <td>102601.000000</td>\n",
       "    </tr>\n",
       "    <tr>\n",
       "      <th>mean</th>\n",
       "      <td>0.511154</td>\n",
       "      <td>0.519131</td>\n",
       "    </tr>\n",
       "    <tr>\n",
       "      <th>std</th>\n",
       "      <td>0.194358</td>\n",
       "      <td>0.784572</td>\n",
       "    </tr>\n",
       "    <tr>\n",
       "      <th>min</th>\n",
       "      <td>0.000527</td>\n",
       "      <td>0.000005</td>\n",
       "    </tr>\n",
       "    <tr>\n",
       "      <th>25%</th>\n",
       "      <td>0.372334</td>\n",
       "      <td>0.389463</td>\n",
       "    </tr>\n",
       "    <tr>\n",
       "      <th>50%</th>\n",
       "      <td>0.537070</td>\n",
       "      <td>0.564699</td>\n",
       "    </tr>\n",
       "    <tr>\n",
       "      <th>75%</th>\n",
       "      <td>0.667458</td>\n",
       "      <td>0.663666</td>\n",
       "    </tr>\n",
       "    <tr>\n",
       "      <th>max</th>\n",
       "      <td>0.896010</td>\n",
       "      <td>100.000000</td>\n",
       "    </tr>\n",
       "  </tbody>\n",
       "</table>\n",
       "</div>"
      ],
      "text/plain": [
       "       Score_Source_3  Score_Source_2\n",
       "count    83861.000000   102601.000000\n",
       "mean         0.511154        0.519131\n",
       "std          0.194358        0.784572\n",
       "min          0.000527        0.000005\n",
       "25%          0.372334        0.389463\n",
       "50%          0.537070        0.564699\n",
       "75%          0.667458        0.663666\n",
       "max          0.896010      100.000000"
      ]
     },
     "execution_count": 15,
     "metadata": {},
     "output_type": "execute_result"
    }
   ],
   "source": [
    "train[['Score_Source_3','Score_Source_2']].describe()"
   ]
  },
  {
   "cell_type": "markdown",
   "metadata": {},
   "source": [
    "Score = 100? Seems like a mistake - will change that to mean."
   ]
  },
  {
   "cell_type": "code",
   "execution_count": 16,
   "metadata": {},
   "outputs": [
    {
     "data": {
      "text/html": [
       "<div>\n",
       "<style scoped>\n",
       "    .dataframe tbody tr th:only-of-type {\n",
       "        vertical-align: middle;\n",
       "    }\n",
       "\n",
       "    .dataframe tbody tr th {\n",
       "        vertical-align: top;\n",
       "    }\n",
       "\n",
       "    .dataframe thead th {\n",
       "        text-align: right;\n",
       "    }\n",
       "</style>\n",
       "<table border=\"1\" class=\"dataframe\">\n",
       "  <thead>\n",
       "    <tr style=\"text-align: right;\">\n",
       "      <th></th>\n",
       "      <th>Client_Income</th>\n",
       "      <th>Car_Owned</th>\n",
       "      <th>Bike_Owned</th>\n",
       "      <th>Active_Loan</th>\n",
       "      <th>House_Own</th>\n",
       "      <th>Child_Count</th>\n",
       "      <th>Credit_Amount</th>\n",
       "      <th>Loan_Annuity</th>\n",
       "      <th>Accompany_Client</th>\n",
       "      <th>Client_Income_Type</th>\n",
       "      <th>Client_Education</th>\n",
       "      <th>Client_Marital_Status</th>\n",
       "      <th>Client_Gender</th>\n",
       "      <th>Loan_Contract_Type</th>\n",
       "      <th>Client_Housing_Type</th>\n",
       "      <th>Population_Region_Relative</th>\n",
       "      <th>Age_Days</th>\n",
       "      <th>Employed_Days</th>\n",
       "      <th>Registration_Days</th>\n",
       "      <th>ID_Days</th>\n",
       "      <th>Mobile_Tag</th>\n",
       "      <th>Homephone_Tag</th>\n",
       "      <th>Workphone_Working</th>\n",
       "      <th>Client_Occupation</th>\n",
       "      <th>Client_Family_Members</th>\n",
       "      <th>Client_City_Rating</th>\n",
       "      <th>Application_Process_Day</th>\n",
       "      <th>Application_Process_Hour</th>\n",
       "      <th>Client_Permanent_Match_Tag</th>\n",
       "      <th>Client_Contact_Work_Tag</th>\n",
       "      <th>Type_Organization</th>\n",
       "      <th>Score_Source_2</th>\n",
       "      <th>Score_Source_3</th>\n",
       "      <th>Phone_Change</th>\n",
       "      <th>Credit_Bureau</th>\n",
       "      <th>Default</th>\n",
       "    </tr>\n",
       "  </thead>\n",
       "  <tbody>\n",
       "    <tr>\n",
       "      <th>44468</th>\n",
       "      <td>15750</td>\n",
       "      <td>1</td>\n",
       "      <td>1</td>\n",
       "      <td>0</td>\n",
       "      <td>1</td>\n",
       "      <td>0</td>\n",
       "      <td>17776.8</td>\n",
       "      <td>1306.35</td>\n",
       "      <td>Partner</td>\n",
       "      <td>Commercial</td>\n",
       "      <td>Graduation</td>\n",
       "      <td>M</td>\n",
       "      <td>Female</td>\n",
       "      <td>CL</td>\n",
       "      <td>Home</td>\n",
       "      <td>0.00702</td>\n",
       "      <td>11352</td>\n",
       "      <td>653</td>\n",
       "      <td>3920</td>\n",
       "      <td>3947</td>\n",
       "      <td>1</td>\n",
       "      <td>0</td>\n",
       "      <td>0</td>\n",
       "      <td>Drivers</td>\n",
       "      <td>2</td>\n",
       "      <td>2</td>\n",
       "      <td>1</td>\n",
       "      <td>14</td>\n",
       "      <td>Yes</td>\n",
       "      <td>No</td>\n",
       "      <td>Government</td>\n",
       "      <td>100.0</td>\n",
       "      <td>0.403142</td>\n",
       "      <td>NaN</td>\n",
       "      <td>1</td>\n",
       "      <td>0</td>\n",
       "    </tr>\n",
       "    <tr>\n",
       "      <th>73097</th>\n",
       "      <td>11250</td>\n",
       "      <td>0</td>\n",
       "      <td>1</td>\n",
       "      <td>1</td>\n",
       "      <td>1</td>\n",
       "      <td>0</td>\n",
       "      <td>18000</td>\n",
       "      <td>900</td>\n",
       "      <td>Alone</td>\n",
       "      <td>Govt Job</td>\n",
       "      <td>Graduation</td>\n",
       "      <td>D</td>\n",
       "      <td>Male</td>\n",
       "      <td>RL</td>\n",
       "      <td>Home</td>\n",
       "      <td>0.0228</td>\n",
       "      <td>8675</td>\n",
       "      <td>445</td>\n",
       "      <td>359</td>\n",
       "      <td>1336</td>\n",
       "      <td>1</td>\n",
       "      <td>0</td>\n",
       "      <td>0</td>\n",
       "      <td>Core</td>\n",
       "      <td>1</td>\n",
       "      <td>2</td>\n",
       "      <td>3</td>\n",
       "      <td>12</td>\n",
       "      <td>Yes</td>\n",
       "      <td>Yes</td>\n",
       "      <td>School</td>\n",
       "      <td>100.0</td>\n",
       "      <td>0.047601</td>\n",
       "      <td>126</td>\n",
       "      <td>0</td>\n",
       "      <td>0</td>\n",
       "    </tr>\n",
       "    <tr>\n",
       "      <th>105522</th>\n",
       "      <td>15750</td>\n",
       "      <td>1</td>\n",
       "      <td>1</td>\n",
       "      <td>0</td>\n",
       "      <td>1</td>\n",
       "      <td>1</td>\n",
       "      <td>32537.7</td>\n",
       "      <td>2997</td>\n",
       "      <td>Alone</td>\n",
       "      <td>NaN</td>\n",
       "      <td>Graduation</td>\n",
       "      <td>M</td>\n",
       "      <td>Female</td>\n",
       "      <td>CL</td>\n",
       "      <td>Home</td>\n",
       "      <td>0.01885</td>\n",
       "      <td>NaN</td>\n",
       "      <td>122</td>\n",
       "      <td>5303</td>\n",
       "      <td>3006</td>\n",
       "      <td>1</td>\n",
       "      <td>0</td>\n",
       "      <td>0</td>\n",
       "      <td>Unknown</td>\n",
       "      <td>3</td>\n",
       "      <td>2</td>\n",
       "      <td>2</td>\n",
       "      <td>12</td>\n",
       "      <td>Yes</td>\n",
       "      <td>Yes</td>\n",
       "      <td>Business Entity Type 3</td>\n",
       "      <td>100.0</td>\n",
       "      <td>0.535276</td>\n",
       "      <td>41</td>\n",
       "      <td>0</td>\n",
       "      <td>0</td>\n",
       "    </tr>\n",
       "    <tr>\n",
       "      <th>109378</th>\n",
       "      <td>22500</td>\n",
       "      <td>0</td>\n",
       "      <td>0</td>\n",
       "      <td>1</td>\n",
       "      <td>NaN</td>\n",
       "      <td>0</td>\n",
       "      <td>83560.5</td>\n",
       "      <td>2456.1</td>\n",
       "      <td>Relative</td>\n",
       "      <td>Retired</td>\n",
       "      <td>Secondary</td>\n",
       "      <td>M</td>\n",
       "      <td>Male</td>\n",
       "      <td>CL</td>\n",
       "      <td>Home</td>\n",
       "      <td>0.018634</td>\n",
       "      <td>21439</td>\n",
       "      <td>365243</td>\n",
       "      <td>1315</td>\n",
       "      <td>4536</td>\n",
       "      <td>1</td>\n",
       "      <td>0</td>\n",
       "      <td>0</td>\n",
       "      <td>Unknown</td>\n",
       "      <td>2</td>\n",
       "      <td>2</td>\n",
       "      <td>5</td>\n",
       "      <td>13</td>\n",
       "      <td>Yes</td>\n",
       "      <td>Yes</td>\n",
       "      <td>XNA</td>\n",
       "      <td>100.0</td>\n",
       "      <td>0.164414</td>\n",
       "      <td>1875</td>\n",
       "      <td>5</td>\n",
       "      <td>1</td>\n",
       "    </tr>\n",
       "    <tr>\n",
       "      <th>114099</th>\n",
       "      <td>27000</td>\n",
       "      <td>0</td>\n",
       "      <td>0</td>\n",
       "      <td>0</td>\n",
       "      <td>NaN</td>\n",
       "      <td>0</td>\n",
       "      <td>107820</td>\n",
       "      <td>3165.3</td>\n",
       "      <td>Alone</td>\n",
       "      <td>Service</td>\n",
       "      <td>Graduation</td>\n",
       "      <td>M</td>\n",
       "      <td>Female</td>\n",
       "      <td>CL</td>\n",
       "      <td>Home</td>\n",
       "      <td>0.010006</td>\n",
       "      <td>16144</td>\n",
       "      <td>2318</td>\n",
       "      <td>106</td>\n",
       "      <td>4215</td>\n",
       "      <td>1</td>\n",
       "      <td>0</td>\n",
       "      <td>0</td>\n",
       "      <td>High skill tech</td>\n",
       "      <td>2</td>\n",
       "      <td>1</td>\n",
       "      <td>5</td>\n",
       "      <td>16</td>\n",
       "      <td>Yes</td>\n",
       "      <td>Yes</td>\n",
       "      <td>Industry: type 9</td>\n",
       "      <td>100.0</td>\n",
       "      <td>0.683269</td>\n",
       "      <td>0</td>\n",
       "      <td>1</td>\n",
       "      <td>0</td>\n",
       "    </tr>\n",
       "    <tr>\n",
       "      <th>119243</th>\n",
       "      <td>20700</td>\n",
       "      <td>1</td>\n",
       "      <td>0</td>\n",
       "      <td>1</td>\n",
       "      <td>1</td>\n",
       "      <td>0</td>\n",
       "      <td>4797</td>\n",
       "      <td>480.15</td>\n",
       "      <td>Relative</td>\n",
       "      <td>Service</td>\n",
       "      <td>Secondary</td>\n",
       "      <td>M</td>\n",
       "      <td>Male</td>\n",
       "      <td>CL</td>\n",
       "      <td>Home</td>\n",
       "      <td>0.015221</td>\n",
       "      <td>14007</td>\n",
       "      <td>3086</td>\n",
       "      <td>6709</td>\n",
       "      <td>4407</td>\n",
       "      <td>1</td>\n",
       "      <td>1</td>\n",
       "      <td>1</td>\n",
       "      <td>Sales</td>\n",
       "      <td>2</td>\n",
       "      <td>2</td>\n",
       "      <td>2</td>\n",
       "      <td>12</td>\n",
       "      <td>Yes</td>\n",
       "      <td>Yes</td>\n",
       "      <td>Trade: type 7</td>\n",
       "      <td>100.0</td>\n",
       "      <td>0.833787</td>\n",
       "      <td>1341</td>\n",
       "      <td>2</td>\n",
       "      <td>0</td>\n",
       "    </tr>\n",
       "  </tbody>\n",
       "</table>\n",
       "</div>"
      ],
      "text/plain": [
       "       Client_Income Car_Owned Bike_Owned Active_Loan House_Own Child_Count  \\\n",
       "44468          15750         1          1           0         1           0   \n",
       "73097          11250         0          1           1         1           0   \n",
       "105522         15750         1          1           0         1           1   \n",
       "109378         22500         0          0           1       NaN           0   \n",
       "114099         27000         0          0           0       NaN           0   \n",
       "119243         20700         1          0           1         1           0   \n",
       "\n",
       "       Credit_Amount Loan_Annuity Accompany_Client Client_Income_Type  \\\n",
       "44468        17776.8      1306.35          Partner         Commercial   \n",
       "73097          18000          900            Alone           Govt Job   \n",
       "105522       32537.7         2997            Alone                NaN   \n",
       "109378       83560.5       2456.1         Relative            Retired   \n",
       "114099        107820       3165.3            Alone            Service   \n",
       "119243          4797       480.15         Relative            Service   \n",
       "\n",
       "       Client_Education Client_Marital_Status Client_Gender  \\\n",
       "44468        Graduation                     M        Female   \n",
       "73097        Graduation                     D          Male   \n",
       "105522       Graduation                     M        Female   \n",
       "109378        Secondary                     M          Male   \n",
       "114099       Graduation                     M        Female   \n",
       "119243        Secondary                     M          Male   \n",
       "\n",
       "       Loan_Contract_Type Client_Housing_Type Population_Region_Relative  \\\n",
       "44468                  CL                Home                    0.00702   \n",
       "73097                  RL                Home                     0.0228   \n",
       "105522                 CL                Home                    0.01885   \n",
       "109378                 CL                Home                   0.018634   \n",
       "114099                 CL                Home                   0.010006   \n",
       "119243                 CL                Home                   0.015221   \n",
       "\n",
       "       Age_Days Employed_Days Registration_Days ID_Days Mobile_Tag  \\\n",
       "44468     11352           653              3920    3947          1   \n",
       "73097      8675           445               359    1336          1   \n",
       "105522      NaN           122              5303    3006          1   \n",
       "109378    21439        365243              1315    4536          1   \n",
       "114099    16144          2318               106    4215          1   \n",
       "119243    14007          3086              6709    4407          1   \n",
       "\n",
       "       Homephone_Tag Workphone_Working Client_Occupation  \\\n",
       "44468              0                 0           Drivers   \n",
       "73097              0                 0              Core   \n",
       "105522             0                 0           Unknown   \n",
       "109378             0                 0           Unknown   \n",
       "114099             0                 0   High skill tech   \n",
       "119243             1                 1             Sales   \n",
       "\n",
       "       Client_Family_Members Client_City_Rating Application_Process_Day  \\\n",
       "44468                      2                  2                       1   \n",
       "73097                      1                  2                       3   \n",
       "105522                     3                  2                       2   \n",
       "109378                     2                  2                       5   \n",
       "114099                     2                  1                       5   \n",
       "119243                     2                  2                       2   \n",
       "\n",
       "       Application_Process_Hour Client_Permanent_Match_Tag  \\\n",
       "44468                        14                        Yes   \n",
       "73097                        12                        Yes   \n",
       "105522                       12                        Yes   \n",
       "109378                       13                        Yes   \n",
       "114099                       16                        Yes   \n",
       "119243                       12                        Yes   \n",
       "\n",
       "       Client_Contact_Work_Tag       Type_Organization  Score_Source_2  \\\n",
       "44468                       No              Government           100.0   \n",
       "73097                      Yes                  School           100.0   \n",
       "105522                     Yes  Business Entity Type 3           100.0   \n",
       "109378                     Yes                     XNA           100.0   \n",
       "114099                     Yes        Industry: type 9           100.0   \n",
       "119243                     Yes           Trade: type 7           100.0   \n",
       "\n",
       "        Score_Source_3 Phone_Change Credit_Bureau Default  \n",
       "44468         0.403142          NaN             1       0  \n",
       "73097         0.047601          126             0       0  \n",
       "105522        0.535276           41             0       0  \n",
       "109378        0.164414         1875             5       1  \n",
       "114099        0.683269            0             1       0  \n",
       "119243        0.833787         1341             2       0  "
      ]
     },
     "execution_count": 16,
     "metadata": {},
     "output_type": "execute_result"
    }
   ],
   "source": [
    "#checking the number of rows with value higher than \"typical\"\n",
    "train[train['Score_Source_2'] > 1]"
   ]
  },
  {
   "cell_type": "code",
   "execution_count": 17,
   "metadata": {},
   "outputs": [],
   "source": [
    "#subset of correct data - basis for mean\n",
    "score_2 = train[train.loc[:, 'Score_Source_2'] <= 1]['Score_Source_2']\n",
    "#changing the outliers to mean value\n",
    "train.loc[train['Score_Source_2'] == 100, \"Score_Source_2\"] = score_2.mean() "
   ]
  },
  {
   "cell_type": "code",
   "execution_count": 18,
   "metadata": {
    "scrolled": false
   },
   "outputs": [
    {
     "data": {
      "image/png": "[encoded data removed]",
      "text/plain": [
       "<Figure size 432x288 with 1 Axes>"
      ]
     },
     "metadata": {
      "needs_background": "light"
     },
     "output_type": "display_data"
    },
    {
     "data": {
      "image/png": "[encoded data removed]",
      "text/plain": [
       "<Figure size 432x288 with 1 Axes>"
      ]
     },
     "metadata": {
      "needs_background": "light"
     },
     "output_type": "display_data"
    }
   ],
   "source": [
    "#distributions of Score_Sources\n",
    "plt.hist(train['Score_Source_3'])\n",
    "plt.title(\"Score_Source_3 distribution\")\n",
    "plt.show()\n",
    "plt.hist(train['Score_Source_2'], color ='orange')\n",
    "plt.title(\"Score_Source_2 distribution\")\n",
    "plt.show()"
   ]
  },
  {
   "cell_type": "markdown",
   "metadata": {},
   "source": [
    "Means and medians (50% percentile) are quite close to each other,  meaning that the distribution is quite well-balanced, also confirmed by histograms - using mean value to impute should be reasonable approach. "
   ]
  },
  {
   "cell_type": "code",
   "execution_count": 19,
   "metadata": {},
   "outputs": [],
   "source": [
    "impute_value(['Score_Source_3', 'Score_Source_2'],fill_value=\"mean\")"
   ]
  },
  {
   "cell_type": "code",
   "execution_count": 20,
   "metadata": {},
   "outputs": [
    {
     "data": {
      "text/html": [
       "<div>\n",
       "<style scoped>\n",
       "    .dataframe tbody tr th:only-of-type {\n",
       "        vertical-align: middle;\n",
       "    }\n",
       "\n",
       "    .dataframe tbody tr th {\n",
       "        vertical-align: top;\n",
       "    }\n",
       "\n",
       "    .dataframe thead th {\n",
       "        text-align: right;\n",
       "    }\n",
       "</style>\n",
       "<table border=\"1\" class=\"dataframe\">\n",
       "  <thead>\n",
       "    <tr style=\"text-align: right;\">\n",
       "      <th></th>\n",
       "      <th>count</th>\n",
       "      <th>% of total</th>\n",
       "    </tr>\n",
       "  </thead>\n",
       "  <tbody>\n",
       "    <tr>\n",
       "      <th>Credit_Bureau</th>\n",
       "      <td>16346</td>\n",
       "      <td>15.191732</td>\n",
       "    </tr>\n",
       "    <tr>\n",
       "      <th>ID_Days</th>\n",
       "      <td>5263</td>\n",
       "      <td>4.891355</td>\n",
       "    </tr>\n",
       "    <tr>\n",
       "      <th>Population_Region_Relative</th>\n",
       "      <td>4295</td>\n",
       "      <td>3.991710</td>\n",
       "    </tr>\n",
       "    <tr>\n",
       "      <th>Loan_Annuity</th>\n",
       "      <td>4274</td>\n",
       "      <td>3.972193</td>\n",
       "    </tr>\n",
       "    <tr>\n",
       "      <th>Client_Income_Type</th>\n",
       "      <td>3259</td>\n",
       "      <td>3.028867</td>\n",
       "    </tr>\n",
       "    <tr>\n",
       "      <th>Employed_Days</th>\n",
       "      <td>3243</td>\n",
       "      <td>3.013997</td>\n",
       "    </tr>\n",
       "    <tr>\n",
       "      <th>Child_Count</th>\n",
       "      <td>3233</td>\n",
       "      <td>3.004703</td>\n",
       "    </tr>\n",
       "    <tr>\n",
       "      <th>Client_Housing_Type</th>\n",
       "      <td>3232</td>\n",
       "      <td>3.003773</td>\n",
       "    </tr>\n",
       "    <tr>\n",
       "      <th>Loan_Contract_Type</th>\n",
       "      <td>3224</td>\n",
       "      <td>2.996338</td>\n",
       "    </tr>\n",
       "    <tr>\n",
       "      <th>Type_Organization</th>\n",
       "      <td>3222</td>\n",
       "      <td>2.994479</td>\n",
       "    </tr>\n",
       "    <tr>\n",
       "      <th>Application_Process_Hour</th>\n",
       "      <td>3218</td>\n",
       "      <td>2.990762</td>\n",
       "    </tr>\n",
       "    <tr>\n",
       "      <th>House_Own</th>\n",
       "      <td>3212</td>\n",
       "      <td>2.985186</td>\n",
       "    </tr>\n",
       "    <tr>\n",
       "      <th>Bike_Owned</th>\n",
       "      <td>3207</td>\n",
       "      <td>2.980539</td>\n",
       "    </tr>\n",
       "    <tr>\n",
       "      <th>Active_Loan</th>\n",
       "      <td>3203</td>\n",
       "      <td>2.976821</td>\n",
       "    </tr>\n",
       "    <tr>\n",
       "      <th>Age_Days</th>\n",
       "      <td>3199</td>\n",
       "      <td>2.973104</td>\n",
       "    </tr>\n",
       "    <tr>\n",
       "      <th>Phone_Change</th>\n",
       "      <td>3197</td>\n",
       "      <td>2.971245</td>\n",
       "    </tr>\n",
       "    <tr>\n",
       "      <th>Client_Income</th>\n",
       "      <td>3170</td>\n",
       "      <td>2.946151</td>\n",
       "    </tr>\n",
       "    <tr>\n",
       "      <th>Registration_Days</th>\n",
       "      <td>3162</td>\n",
       "      <td>2.938716</td>\n",
       "    </tr>\n",
       "    <tr>\n",
       "      <th>Car_Owned</th>\n",
       "      <td>3160</td>\n",
       "      <td>2.936858</td>\n",
       "    </tr>\n",
       "    <tr>\n",
       "      <th>Client_Marital_Status</th>\n",
       "      <td>3095</td>\n",
       "      <td>2.876448</td>\n",
       "    </tr>\n",
       "    <tr>\n",
       "      <th>Accompany_Client</th>\n",
       "      <td>0</td>\n",
       "      <td>0.000000</td>\n",
       "    </tr>\n",
       "    <tr>\n",
       "      <th>Score_Source_3</th>\n",
       "      <td>0</td>\n",
       "      <td>0.000000</td>\n",
       "    </tr>\n",
       "    <tr>\n",
       "      <th>Score_Source_2</th>\n",
       "      <td>0</td>\n",
       "      <td>0.000000</td>\n",
       "    </tr>\n",
       "    <tr>\n",
       "      <th>Client_Contact_Work_Tag</th>\n",
       "      <td>0</td>\n",
       "      <td>0.000000</td>\n",
       "    </tr>\n",
       "    <tr>\n",
       "      <th>Client_Permanent_Match_Tag</th>\n",
       "      <td>0</td>\n",
       "      <td>0.000000</td>\n",
       "    </tr>\n",
       "    <tr>\n",
       "      <th>Credit_Amount</th>\n",
       "      <td>0</td>\n",
       "      <td>0.000000</td>\n",
       "    </tr>\n",
       "    <tr>\n",
       "      <th>Application_Process_Day</th>\n",
       "      <td>0</td>\n",
       "      <td>0.000000</td>\n",
       "    </tr>\n",
       "    <tr>\n",
       "      <th>Client_City_Rating</th>\n",
       "      <td>0</td>\n",
       "      <td>0.000000</td>\n",
       "    </tr>\n",
       "    <tr>\n",
       "      <th>Mobile_Tag</th>\n",
       "      <td>0</td>\n",
       "      <td>0.000000</td>\n",
       "    </tr>\n",
       "    <tr>\n",
       "      <th>Client_Education</th>\n",
       "      <td>0</td>\n",
       "      <td>0.000000</td>\n",
       "    </tr>\n",
       "    <tr>\n",
       "      <th>Client_Gender</th>\n",
       "      <td>0</td>\n",
       "      <td>0.000000</td>\n",
       "    </tr>\n",
       "    <tr>\n",
       "      <th>Client_Family_Members</th>\n",
       "      <td>0</td>\n",
       "      <td>0.000000</td>\n",
       "    </tr>\n",
       "    <tr>\n",
       "      <th>Client_Occupation</th>\n",
       "      <td>0</td>\n",
       "      <td>0.000000</td>\n",
       "    </tr>\n",
       "    <tr>\n",
       "      <th>Workphone_Working</th>\n",
       "      <td>0</td>\n",
       "      <td>0.000000</td>\n",
       "    </tr>\n",
       "    <tr>\n",
       "      <th>Homephone_Tag</th>\n",
       "      <td>0</td>\n",
       "      <td>0.000000</td>\n",
       "    </tr>\n",
       "    <tr>\n",
       "      <th>Default</th>\n",
       "      <td>0</td>\n",
       "      <td>0.000000</td>\n",
       "    </tr>\n",
       "  </tbody>\n",
       "</table>\n",
       "</div>"
      ],
      "text/plain": [
       "                            count  % of total\n",
       "Credit_Bureau               16346   15.191732\n",
       "ID_Days                      5263    4.891355\n",
       "Population_Region_Relative   4295    3.991710\n",
       "Loan_Annuity                 4274    3.972193\n",
       "Client_Income_Type           3259    3.028867\n",
       "Employed_Days                3243    3.013997\n",
       "Child_Count                  3233    3.004703\n",
       "Client_Housing_Type          3232    3.003773\n",
       "Loan_Contract_Type           3224    2.996338\n",
       "Type_Organization            3222    2.994479\n",
       "Application_Process_Hour     3218    2.990762\n",
       "House_Own                    3212    2.985186\n",
       "Bike_Owned                   3207    2.980539\n",
       "Active_Loan                  3203    2.976821\n",
       "Age_Days                     3199    2.973104\n",
       "Phone_Change                 3197    2.971245\n",
       "Client_Income                3170    2.946151\n",
       "Registration_Days            3162    2.938716\n",
       "Car_Owned                    3160    2.936858\n",
       "Client_Marital_Status        3095    2.876448\n",
       "Accompany_Client                0    0.000000\n",
       "Score_Source_3                  0    0.000000\n",
       "Score_Source_2                  0    0.000000\n",
       "Client_Contact_Work_Tag         0    0.000000\n",
       "Client_Permanent_Match_Tag      0    0.000000\n",
       "Credit_Amount                   0    0.000000\n",
       "Application_Process_Day         0    0.000000\n",
       "Client_City_Rating              0    0.000000\n",
       "Mobile_Tag                      0    0.000000\n",
       "Client_Education                0    0.000000\n",
       "Client_Gender                   0    0.000000\n",
       "Client_Family_Members           0    0.000000\n",
       "Client_Occupation               0    0.000000\n",
       "Workphone_Working               0    0.000000\n",
       "Homephone_Tag                   0    0.000000\n",
       "Default                         0    0.000000"
      ]
     },
     "execution_count": 20,
     "metadata": {},
     "output_type": "execute_result"
    }
   ],
   "source": [
    "missing_values(train)"
   ]
  },
  {
   "cell_type": "markdown",
   "metadata": {},
   "source": [
    "For Credit Bureau (total number of inquires). If we don't have any indication it is safe to assume client did not inquire for credit last year. "
   ]
  },
  {
   "cell_type": "code",
   "execution_count": 21,
   "metadata": {},
   "outputs": [],
   "source": [
    "#chaning to float and imputing 0 for NaNs\n",
    "train['Credit_Bureau'] = train['Credit_Bureau'].astype('float')\n",
    "impute_value('Credit_Bureau')"
   ]
  },
  {
   "cell_type": "markdown",
   "metadata": {},
   "source": [
    "For columns with \"Type\" in name, I will impute \"Other\" for NaN. "
   ]
  },
  {
   "cell_type": "code",
   "execution_count": 22,
   "metadata": {},
   "outputs": [],
   "source": [
    "#selecting \"Type\" columns\n",
    "type_columns = train.columns[train.columns.str.contains(\"Type\")].tolist()\n",
    "\n",
    "for col in type_columns:\n",
    "    train.loc[:,col].fillna('Other', inplace = True) "
   ]
  },
  {
   "cell_type": "code",
   "execution_count": 23,
   "metadata": {},
   "outputs": [
    {
     "data": {
      "text/plain": [
       "Client_Income_Type     0\n",
       "Loan_Contract_Type     0\n",
       "Client_Housing_Type    0\n",
       "Type_Organization      0\n",
       "dtype: int64"
      ]
     },
     "execution_count": 23,
     "metadata": {},
     "output_type": "execute_result"
    }
   ],
   "source": [
    "#check if imputing was correct\n",
    "train.loc[:,type_columns].isna().sum()"
   ]
  },
  {
   "cell_type": "markdown",
   "metadata": {},
   "source": [
    "\"Population Region Relative\" is another columns that are eligable to impute mean values for NaN. First, some unwanted characters needs to be removed."
   ]
  },
  {
   "cell_type": "code",
   "execution_count": 24,
   "metadata": {},
   "outputs": [],
   "source": [
    "impute_nan('Population_Region_Relative', '@')\n",
    "impute_nan('Population_Region_Relative', '#')"
   ]
  },
  {
   "cell_type": "code",
   "execution_count": 25,
   "metadata": {},
   "outputs": [
    {
     "data": {
      "text/plain": [
       "count    103293.000000\n",
       "mean          0.020868\n",
       "std           0.013896\n",
       "min           0.000533\n",
       "25%           0.010006\n",
       "50%           0.018850\n",
       "75%           0.028663\n",
       "max           0.072508\n",
       "Name: Population_Region_Relative, dtype: float64"
      ]
     },
     "execution_count": 25,
     "metadata": {},
     "output_type": "execute_result"
    }
   ],
   "source": [
    "#changing the data type to float\n",
    "train[\"Population_Region_Relative\"] = train[\"Population_Region_Relative\"].astype('float')\n",
    "train[\"Population_Region_Relative\"].describe()"
   ]
  },
  {
   "cell_type": "code",
   "execution_count": 26,
   "metadata": {},
   "outputs": [],
   "source": [
    "impute_value(\"Population_Region_Relative\", fill_value=\"mean\")"
   ]
  },
  {
   "cell_type": "code",
   "execution_count": 27,
   "metadata": {},
   "outputs": [
    {
     "data": {
      "text/html": [
       "<div>\n",
       "<style scoped>\n",
       "    .dataframe tbody tr th:only-of-type {\n",
       "        vertical-align: middle;\n",
       "    }\n",
       "\n",
       "    .dataframe tbody tr th {\n",
       "        vertical-align: top;\n",
       "    }\n",
       "\n",
       "    .dataframe thead th {\n",
       "        text-align: right;\n",
       "    }\n",
       "</style>\n",
       "<table border=\"1\" class=\"dataframe\">\n",
       "  <thead>\n",
       "    <tr style=\"text-align: right;\">\n",
       "      <th></th>\n",
       "      <th>count</th>\n",
       "      <th>% of total</th>\n",
       "    </tr>\n",
       "  </thead>\n",
       "  <tbody>\n",
       "    <tr>\n",
       "      <th>ID_Days</th>\n",
       "      <td>5263</td>\n",
       "      <td>4.891355</td>\n",
       "    </tr>\n",
       "    <tr>\n",
       "      <th>Loan_Annuity</th>\n",
       "      <td>4274</td>\n",
       "      <td>3.972193</td>\n",
       "    </tr>\n",
       "    <tr>\n",
       "      <th>Employed_Days</th>\n",
       "      <td>3243</td>\n",
       "      <td>3.013997</td>\n",
       "    </tr>\n",
       "    <tr>\n",
       "      <th>Child_Count</th>\n",
       "      <td>3233</td>\n",
       "      <td>3.004703</td>\n",
       "    </tr>\n",
       "    <tr>\n",
       "      <th>Application_Process_Hour</th>\n",
       "      <td>3218</td>\n",
       "      <td>2.990762</td>\n",
       "    </tr>\n",
       "    <tr>\n",
       "      <th>House_Own</th>\n",
       "      <td>3212</td>\n",
       "      <td>2.985186</td>\n",
       "    </tr>\n",
       "    <tr>\n",
       "      <th>Bike_Owned</th>\n",
       "      <td>3207</td>\n",
       "      <td>2.980539</td>\n",
       "    </tr>\n",
       "    <tr>\n",
       "      <th>Active_Loan</th>\n",
       "      <td>3203</td>\n",
       "      <td>2.976821</td>\n",
       "    </tr>\n",
       "    <tr>\n",
       "      <th>Age_Days</th>\n",
       "      <td>3199</td>\n",
       "      <td>2.973104</td>\n",
       "    </tr>\n",
       "    <tr>\n",
       "      <th>Phone_Change</th>\n",
       "      <td>3197</td>\n",
       "      <td>2.971245</td>\n",
       "    </tr>\n",
       "    <tr>\n",
       "      <th>Client_Income</th>\n",
       "      <td>3170</td>\n",
       "      <td>2.946151</td>\n",
       "    </tr>\n",
       "    <tr>\n",
       "      <th>Registration_Days</th>\n",
       "      <td>3162</td>\n",
       "      <td>2.938716</td>\n",
       "    </tr>\n",
       "    <tr>\n",
       "      <th>Car_Owned</th>\n",
       "      <td>3160</td>\n",
       "      <td>2.936858</td>\n",
       "    </tr>\n",
       "    <tr>\n",
       "      <th>Client_Marital_Status</th>\n",
       "      <td>3095</td>\n",
       "      <td>2.876448</td>\n",
       "    </tr>\n",
       "    <tr>\n",
       "      <th>Client_Family_Members</th>\n",
       "      <td>0</td>\n",
       "      <td>0.000000</td>\n",
       "    </tr>\n",
       "    <tr>\n",
       "      <th>Score_Source_3</th>\n",
       "      <td>0</td>\n",
       "      <td>0.000000</td>\n",
       "    </tr>\n",
       "    <tr>\n",
       "      <th>Score_Source_2</th>\n",
       "      <td>0</td>\n",
       "      <td>0.000000</td>\n",
       "    </tr>\n",
       "    <tr>\n",
       "      <th>Type_Organization</th>\n",
       "      <td>0</td>\n",
       "      <td>0.000000</td>\n",
       "    </tr>\n",
       "    <tr>\n",
       "      <th>Client_Contact_Work_Tag</th>\n",
       "      <td>0</td>\n",
       "      <td>0.000000</td>\n",
       "    </tr>\n",
       "    <tr>\n",
       "      <th>Credit_Amount</th>\n",
       "      <td>0</td>\n",
       "      <td>0.000000</td>\n",
       "    </tr>\n",
       "    <tr>\n",
       "      <th>Client_Permanent_Match_Tag</th>\n",
       "      <td>0</td>\n",
       "      <td>0.000000</td>\n",
       "    </tr>\n",
       "    <tr>\n",
       "      <th>Accompany_Client</th>\n",
       "      <td>0</td>\n",
       "      <td>0.000000</td>\n",
       "    </tr>\n",
       "    <tr>\n",
       "      <th>Client_Income_Type</th>\n",
       "      <td>0</td>\n",
       "      <td>0.000000</td>\n",
       "    </tr>\n",
       "    <tr>\n",
       "      <th>Client_Education</th>\n",
       "      <td>0</td>\n",
       "      <td>0.000000</td>\n",
       "    </tr>\n",
       "    <tr>\n",
       "      <th>Client_Gender</th>\n",
       "      <td>0</td>\n",
       "      <td>0.000000</td>\n",
       "    </tr>\n",
       "    <tr>\n",
       "      <th>Client_Occupation</th>\n",
       "      <td>0</td>\n",
       "      <td>0.000000</td>\n",
       "    </tr>\n",
       "    <tr>\n",
       "      <th>Loan_Contract_Type</th>\n",
       "      <td>0</td>\n",
       "      <td>0.000000</td>\n",
       "    </tr>\n",
       "    <tr>\n",
       "      <th>Client_Housing_Type</th>\n",
       "      <td>0</td>\n",
       "      <td>0.000000</td>\n",
       "    </tr>\n",
       "    <tr>\n",
       "      <th>Population_Region_Relative</th>\n",
       "      <td>0</td>\n",
       "      <td>0.000000</td>\n",
       "    </tr>\n",
       "    <tr>\n",
       "      <th>Application_Process_Day</th>\n",
       "      <td>0</td>\n",
       "      <td>0.000000</td>\n",
       "    </tr>\n",
       "    <tr>\n",
       "      <th>Credit_Bureau</th>\n",
       "      <td>0</td>\n",
       "      <td>0.000000</td>\n",
       "    </tr>\n",
       "    <tr>\n",
       "      <th>Client_City_Rating</th>\n",
       "      <td>0</td>\n",
       "      <td>0.000000</td>\n",
       "    </tr>\n",
       "    <tr>\n",
       "      <th>Mobile_Tag</th>\n",
       "      <td>0</td>\n",
       "      <td>0.000000</td>\n",
       "    </tr>\n",
       "    <tr>\n",
       "      <th>Homephone_Tag</th>\n",
       "      <td>0</td>\n",
       "      <td>0.000000</td>\n",
       "    </tr>\n",
       "    <tr>\n",
       "      <th>Workphone_Working</th>\n",
       "      <td>0</td>\n",
       "      <td>0.000000</td>\n",
       "    </tr>\n",
       "    <tr>\n",
       "      <th>Default</th>\n",
       "      <td>0</td>\n",
       "      <td>0.000000</td>\n",
       "    </tr>\n",
       "  </tbody>\n",
       "</table>\n",
       "</div>"
      ],
      "text/plain": [
       "                            count  % of total\n",
       "ID_Days                      5263    4.891355\n",
       "Loan_Annuity                 4274    3.972193\n",
       "Employed_Days                3243    3.013997\n",
       "Child_Count                  3233    3.004703\n",
       "Application_Process_Hour     3218    2.990762\n",
       "House_Own                    3212    2.985186\n",
       "Bike_Owned                   3207    2.980539\n",
       "Active_Loan                  3203    2.976821\n",
       "Age_Days                     3199    2.973104\n",
       "Phone_Change                 3197    2.971245\n",
       "Client_Income                3170    2.946151\n",
       "Registration_Days            3162    2.938716\n",
       "Car_Owned                    3160    2.936858\n",
       "Client_Marital_Status        3095    2.876448\n",
       "Client_Family_Members           0    0.000000\n",
       "Score_Source_3                  0    0.000000\n",
       "Score_Source_2                  0    0.000000\n",
       "Type_Organization               0    0.000000\n",
       "Client_Contact_Work_Tag         0    0.000000\n",
       "Credit_Amount                   0    0.000000\n",
       "Client_Permanent_Match_Tag      0    0.000000\n",
       "Accompany_Client                0    0.000000\n",
       "Client_Income_Type              0    0.000000\n",
       "Client_Education                0    0.000000\n",
       "Client_Gender                   0    0.000000\n",
       "Client_Occupation               0    0.000000\n",
       "Loan_Contract_Type              0    0.000000\n",
       "Client_Housing_Type             0    0.000000\n",
       "Population_Region_Relative      0    0.000000\n",
       "Application_Process_Day         0    0.000000\n",
       "Credit_Bureau                   0    0.000000\n",
       "Client_City_Rating              0    0.000000\n",
       "Mobile_Tag                      0    0.000000\n",
       "Homephone_Tag                   0    0.000000\n",
       "Workphone_Working               0    0.000000\n",
       "Default                         0    0.000000"
      ]
     },
     "execution_count": 27,
     "metadata": {},
     "output_type": "execute_result"
    }
   ],
   "source": [
    "missing_values(train)"
   ]
  },
  {
   "cell_type": "markdown",
   "metadata": {},
   "source": [
    "For columns like: \"Child Count\", \"Bike Owned\", \"Active_Loan\" and \"Car Owned\", considering the relative low % missing values (around 3%), and type of the columns it is safe to assume that if the data is not there, it means the answer is no (imputing 0). "
   ]
  },
  {
   "cell_type": "code",
   "execution_count": 28,
   "metadata": {},
   "outputs": [],
   "source": [
    "train['Child_Count']= train['Child_Count'].astype('float')\n",
    "train['House_Own']= train['House_Own'].astype('float')\n",
    "train['Bike_Owned']= train['Bike_Owned'].astype('float')\n",
    "train['Active_Loan']= train['Active_Loan'].astype('float')\n",
    "train['Car_Owned']= train['Car_Owned'].astype('float')\n",
    "\n",
    "\n",
    "\n",
    "impute_value([\"Child_Count\", \"House_Own\", \"Bike_Owned\", \"Active_Loan\", \"Car_Owned\"], 0)"
   ]
  },
  {
   "cell_type": "markdown",
   "metadata": {},
   "source": [
    "Imputing \"Application_Process_Hour\": based on the other data, reasonable time(hour) for processing application is 10 am. Also, I do not expect this value significantly affects the results. "
   ]
  },
  {
   "cell_type": "code",
   "execution_count": 29,
   "metadata": {},
   "outputs": [],
   "source": [
    "impute_value(\"Application_Process_Hour\", 10)"
   ]
  },
  {
   "cell_type": "code",
   "execution_count": 30,
   "metadata": {},
   "outputs": [],
   "source": [
    "# removing unwanted rows for $ and # columns\n",
    "\n",
    "train = train.drop(train[train[\"Loan_Annuity\"] == '$'].index)\n",
    "train = train.drop(train[train['Loan_Annuity'].str.contains('#')==True].index)\n",
    "train = train.drop(train[train[\"Client_Income\"] == '$'].index)\n",
    "train = train.drop(train[train[\"Credit_Amount\"] == '$'].index)\n",
    "\n",
    "#changing the data to floats\n",
    "train['Client_Income']= train['Client_Income'].astype('float')\n",
    "train['Loan_Annuity']= train['Loan_Annuity'].astype('float')\n",
    "train['Credit_Amount']= train['Credit_Amount'].astype('float')\n",
    "train['Phone_Change']= train['Phone_Change'].astype('float')\n",
    "train['Default'] = train['Default'].astype('int')\n"
   ]
  },
  {
   "cell_type": "markdown",
   "metadata": {},
   "source": []
  },
  {
   "cell_type": "code",
   "execution_count": 31,
   "metadata": {},
   "outputs": [
    {
     "data": {
      "text/plain": [
       "0         6123\n",
       "1         7833\n",
       "2          NaN\n",
       "3          NaN\n",
       "4         5516\n",
       "          ... \n",
       "121851    2661\n",
       "121852     902\n",
       "121853    3980\n",
       "121854     895\n",
       "121855    8679\n",
       "Name: Registration_Days, Length: 107569, dtype: object"
      ]
     },
     "execution_count": 31,
     "metadata": {},
     "output_type": "execute_result"
    }
   ],
   "source": [
    "train['Registration_Days']"
   ]
  },
  {
   "cell_type": "code",
   "execution_count": 32,
   "metadata": {},
   "outputs": [],
   "source": [
    "impute_nan(\"Age_Days\", \"x\")\n",
    "impute_nan(\"Employed_Days\", \"x\")\n",
    "impute_nan(\"ID_Days\", \"x\")\n",
    "impute_nan(\"Registration_Days\", \"x\")\n",
    "\n",
    "train['Age_Days']= train['Age_Days'].astype('float')\n",
    "train['Employed_Days']= train['Employed_Days'].astype('float')\n",
    "train['ID_Days']= train['ID_Days'].astype('float')\n",
    "train['Registration_Days']= train['Registration_Days'].astype('float')\n",
    "\n",
    "impute_value([\"Client_Income\", \"Phone_Change\",\"Loan_Annuity\",\"Registration_Days\", \"Age_Days\",\"Employed_Days\", \"ID_Days\"], \n",
    "             \"mean\")"
   ]
  },
  {
   "cell_type": "markdown",
   "metadata": {},
   "source": [
    "For \"Maritial Status\" it is safe to assume that no info = single"
   ]
  },
  {
   "cell_type": "code",
   "execution_count": 33,
   "metadata": {},
   "outputs": [],
   "source": [
    "impute_value(\"Client_Marital_Status\", 'S')"
   ]
  },
  {
   "cell_type": "markdown",
   "metadata": {},
   "source": [
    "There are also additional unwanted data - categorical data to be checked: "
   ]
  },
  {
   "cell_type": "code",
   "execution_count": 34,
   "metadata": {},
   "outputs": [
    {
     "data": {
      "text/plain": [
       "Accompany_Client\n",
       "Alone       87210\n",
       "Relative    14154\n",
       "Partner      4026\n",
       "Kids         1175\n",
       "Others        902\n",
       "Group          91\n",
       "##             11\n",
       "dtype: int64"
      ]
     },
     "metadata": {},
     "output_type": "display_data"
    },
    {
     "data": {
      "text/plain": [
       "Client_Income_Type\n",
       "Service            53932\n",
       "Commercial         24472\n",
       "Retired            18616\n",
       "Govt Job            7275\n",
       "Other               3259\n",
       "Unemployed             6\n",
       "Student                6\n",
       "Maternity leave        2\n",
       "Businessman            1\n",
       "dtype: int64"
      ]
     },
     "metadata": {},
     "output_type": "display_data"
    },
    {
     "data": {
      "text/plain": [
       "Client_Education\n",
       "Secondary             74198\n",
       "Graduation            25318\n",
       "Graduation dropout     3497\n",
       "Unknown                3223\n",
       "Junior secondary       1272\n",
       "Post Grad                61\n",
       "dtype: int64"
      ]
     },
     "metadata": {},
     "output_type": "display_data"
    },
    {
     "data": {
      "text/plain": [
       "Client_Marital_Status\n",
       "M    77054\n",
       "S    18420\n",
       "D     6716\n",
       "W     5379\n",
       "dtype: int64"
      ]
     },
     "metadata": {},
     "output_type": "display_data"
    },
    {
     "data": {
      "text/plain": [
       "Client_Gender\n",
       "Male      70700\n",
       "Female    36866\n",
       "XNA           3\n",
       "dtype: int64"
      ]
     },
     "metadata": {},
     "output_type": "display_data"
    },
    {
     "data": {
      "text/plain": [
       "Loan_Contract_Type\n",
       "CL       94576\n",
       "RL        9770\n",
       "Other     3223\n",
       "dtype: int64"
      ]
     },
     "metadata": {},
     "output_type": "display_data"
    },
    {
     "data": {
      "text/plain": [
       "Client_Housing_Type\n",
       "Home         92638\n",
       "Family        5076\n",
       "Municipal     3740\n",
       "Other         3231\n",
       "Rental        1604\n",
       "Office         887\n",
       "Shared         393\n",
       "dtype: int64"
      ]
     },
     "metadata": {},
     "output_type": "display_data"
    },
    {
     "data": {
      "text/plain": [
       "Mobile_Tag\n",
       "1    107568\n",
       "0         1\n",
       "dtype: int64"
      ]
     },
     "metadata": {},
     "output_type": "display_data"
    },
    {
     "data": {
      "text/plain": [
       "Homephone_Tag\n",
       "0    86018\n",
       "1    21551\n",
       "dtype: int64"
      ]
     },
     "metadata": {},
     "output_type": "display_data"
    },
    {
     "data": {
      "text/plain": [
       "Workphone_Working\n",
       "0    77405\n",
       "1    30164\n",
       "dtype: int64"
      ]
     },
     "metadata": {},
     "output_type": "display_data"
    },
    {
     "data": {
      "text/plain": [
       "Client_Occupation\n",
       "Unknown               36617\n",
       "Laborers              18560\n",
       "Sales                 10730\n",
       "Core                   9284\n",
       "Managers               7192\n",
       "Drivers                6304\n",
       "High skill tech        3807\n",
       "Accountants            3295\n",
       "Medicine               2794\n",
       "Security               2397\n",
       "Cooking                1985\n",
       "Cleaning               1516\n",
       "Private service         887\n",
       "Low-skill Laborers      696\n",
       "Secretaries             480\n",
       "Waiters/barmen          427\n",
       "Realty agents           251\n",
       "HR                      177\n",
       "IT                      170\n",
       "dtype: int64"
      ]
     },
     "metadata": {},
     "output_type": "display_data"
    },
    {
     "data": {
      "text/plain": [
       "Client_Family_Members\n",
       "2     55476\n",
       "1     23622\n",
       "3     18433\n",
       "4      8615\n",
       "5      1230\n",
       "6       139\n",
       "7        30\n",
       "8        10\n",
       "9         4\n",
       "10        3\n",
       "16        2\n",
       "12        2\n",
       "15        1\n",
       "14        1\n",
       "13        1\n",
       "dtype: int64"
      ]
     },
     "metadata": {},
     "output_type": "display_data"
    },
    {
     "data": {
      "text/plain": [
       "Client_City_Rating\n",
       "2    80188\n",
       "3    15297\n",
       "1    12084\n",
       "dtype: int64"
      ]
     },
     "metadata": {},
     "output_type": "display_data"
    },
    {
     "data": {
      "text/plain": [
       "Application_Process_Day\n",
       "2    18850\n",
       "3    18070\n",
       "1    17789\n",
       "4    17707\n",
       "5    17699\n",
       "6    11792\n",
       "0     5662\n",
       "dtype: int64"
      ]
     },
     "metadata": {},
     "output_type": "display_data"
    },
    {
     "data": {
      "text/plain": [
       "Application_Process_Hour\n",
       "10    12786\n",
       "11    12727\n",
       "12    11513\n",
       "13    10369\n",
       "14     9458\n",
       "9      9303\n",
       "15     8478\n",
       "16     6822\n",
       "17     5142\n",
       "8      5095\n",
       "10     3218\n",
       "7      3071\n",
       "18     3067\n",
       "6      1978\n",
       "19     1283\n",
       "5      1257\n",
       "4       769\n",
       "20      436\n",
       "3       436\n",
       "21      145\n",
       "2        99\n",
       "22       61\n",
       "1        23\n",
       "0        21\n",
       "23       12\n",
       "dtype: int64"
      ]
     },
     "metadata": {},
     "output_type": "display_data"
    },
    {
     "data": {
      "text/plain": [
       "Client_Permanent_Match_Tag\n",
       "Yes    99277\n",
       "No      8292\n",
       "dtype: int64"
      ]
     },
     "metadata": {},
     "output_type": "display_data"
    },
    {
     "data": {
      "text/plain": [
       "Client_Contact_Work_Tag\n",
       "Yes    88217\n",
       "No     19352\n",
       "dtype: int64"
      ]
     },
     "metadata": {},
     "output_type": "display_data"
    },
    {
     "data": {
      "text/plain": [
       "Type_Organization\n",
       "Business Entity Type 3    23152\n",
       "XNA                       18629\n",
       "Self-employed             13030\n",
       "Other                      8733\n",
       "Medicine                   3817\n",
       "Business Entity Type 2     3630\n",
       "Government                 3508\n",
       "School                     2963\n",
       "Trade: type 7              2617\n",
       "Kindergarten               2370\n",
       "Construction               2303\n",
       "Business Entity Type 1     2057\n",
       "Transport: type 4          1838\n",
       "Trade: type 3              1193\n",
       "Industry: type 9           1129\n",
       "Security                   1117\n",
       "Industry: type 3           1084\n",
       "Housing                    1039\n",
       "Military                    927\n",
       "Agriculture                 899\n",
       "Industry: type 11           877\n",
       "Bank                        877\n",
       "Police                      824\n",
       "Postal                      766\n",
       "Transport: type 2           715\n",
       "Security Ministries         658\n",
       "Trade: type 2               629\n",
       "Restaurant                  627\n",
       "University                  500\n",
       "Services                    499\n",
       "Transport: type 3           445\n",
       "Industry: type 7            437\n",
       "Industry: type 1            356\n",
       "Hotel                       350\n",
       "Electricity                 324\n",
       "Industry: type 4            311\n",
       "Trade: type 6               221\n",
       "Industry: type 5            198\n",
       "Telecom                     196\n",
       "Insurance                   182\n",
       "Emergency                   180\n",
       "Industry: type 2            155\n",
       "Advertising                 139\n",
       "Realtor                     138\n",
       "Industry: type 12           134\n",
       "Trade: type 1               116\n",
       "Culture                     115\n",
       "Mobile                      110\n",
       "Legal Services              108\n",
       "Cleaning                    107\n",
       "Transport: type 1            66\n",
       "Industry: type 10            35\n",
       "Industry: type 6             35\n",
       "Religion                     34\n",
       "Industry: type 13            27\n",
       "Trade: type 4                25\n",
       "Trade: type 5                11\n",
       "Industry: type 8              7\n",
       "dtype: int64"
      ]
     },
     "metadata": {},
     "output_type": "display_data"
    }
   ],
   "source": [
    "list_of_vals = {}\n",
    "\n",
    "for col in  train.columns:\n",
    "    if train[col].dtype == 'object':\n",
    "        train.value_counts(col)\n",
    "        list_of_vals[col] = train.value_counts(col)\n",
    "        display(list_of_vals[col])\n",
    "        \n"
   ]
  },
  {
   "cell_type": "markdown",
   "metadata": {},
   "source": [
    "The exercise above showed that several columns (Accompany_Client, Client_Gender, Type_Organization) have still some inconsistent/unwanted values. "
   ]
  },
  {
   "cell_type": "code",
   "execution_count": 35,
   "metadata": {},
   "outputs": [
    {
     "data": {
      "text/plain": [
       "array(['Male', 'Female'], dtype=object)"
      ]
     },
     "execution_count": 35,
     "metadata": {},
     "output_type": "execute_result"
    }
   ],
   "source": [
    "#Droping 'XNA' gender. It is only three records\n",
    "train = train.drop(train[train[\"Client_Gender\"] == 'XNA'].index)\n",
    "train['Client_Gender'].unique()"
   ]
  },
  {
   "cell_type": "code",
   "execution_count": 36,
   "metadata": {},
   "outputs": [],
   "source": [
    "# Replacing unwanted characters to \"Other\" categories\n",
    "\n",
    "impute_nan('Accompany_Client', '##')\n",
    "impute_value('Accompany_Client', 'Others')\n",
    "\n",
    "impute_nan('Type_Organization',\"XNA\")\n",
    "impute_value('Type_Organization', 'Other')"
   ]
  },
  {
   "cell_type": "markdown",
   "metadata": {},
   "source": [
    "The data may be considered cleaned"
   ]
  },
  {
   "cell_type": "code",
   "execution_count": 37,
   "metadata": {},
   "outputs": [
    {
     "data": {
      "image/png": "[encoded data removed]",
      "text/plain": [
       "<Figure size 432x288 with 1 Axes>"
      ]
     },
     "metadata": {
      "needs_background": "light"
     },
     "output_type": "display_data"
    }
   ],
   "source": [
    "sns.countplot(data = train, x= 'Default')\n",
    "plt.show()"
   ]
  },
  {
   "cell_type": "markdown",
   "metadata": {},
   "source": [
    "There is a huge imbalance between the default and non-default results. This needs to be taken into account when measuring the performance of the model. Accuracy will not be reliable - F1 score is preffered.  "
   ]
  },
  {
   "cell_type": "markdown",
   "metadata": {},
   "source": [
    "In terms of gender there is clear imbalance as well; however the relative proportion of the defaulted loans is higher for females. "
   ]
  },
  {
   "cell_type": "code",
   "execution_count": 38,
   "metadata": {},
   "outputs": [
    {
     "data": {
      "image/png": "[encoded data removed]",
      "text/plain": [
       "<Figure size 720x360 with 2 Axes>"
      ]
     },
     "metadata": {
      "needs_background": "light"
     },
     "output_type": "display_data"
    }
   ],
   "source": [
    "sns.displot(train, x=\"Default\", col=\"Client_Gender\")\n",
    "plt.show()"
   ]
  },
  {
   "cell_type": "markdown",
   "metadata": {},
   "source": [
    "The most extreme values of Credit Amount can be founding withing married and singles. For married it is probably the effect of need for bigger thus more expensive car (for family). "
   ]
  },
  {
   "cell_type": "code",
   "execution_count": 39,
   "metadata": {
    "scrolled": true
   },
   "outputs": [
    {
     "data": {
      "text/plain": [
       "<matplotlib.legend.Legend at 0x7fb50eb6f3d0>"
      ]
     },
     "execution_count": 39,
     "metadata": {},
     "output_type": "execute_result"
    },
    {
     "data": {
      "image/png": "[encoded data removed]",
      "text/plain": [
       "<Figure size 2000x800 with 1 Axes>"
      ]
     },
     "metadata": {
      "needs_background": "light"
     },
     "output_type": "display_data"
    }
   ],
   "source": [
    "plt.figure(figsize=(10,4),dpi=200)\n",
    "sns.boxplot(data=train,y='Credit_Amount',x='Client_Marital_Status',hue='Default')\n",
    "plt.legend(loc=(1.1,0.5))"
   ]
  },
  {
   "cell_type": "markdown",
   "metadata": {},
   "source": [
    "The correlation numbers between the Default and other feautures show that the external scores have the highest negative correlation with default - let's explore it further. "
   ]
  },
  {
   "cell_type": "code",
   "execution_count": 40,
   "metadata": {},
   "outputs": [
    {
     "data": {
      "text/plain": [
       "Score_Source_2                  -0.151307\n",
       "Age_Days                        -0.072644\n",
       "Client_Education_Graduation     -0.061367\n",
       "Phone_Change                    -0.054103\n",
       "Client_Gender_Male              -0.051706\n",
       "                                   ...   \n",
       "Client_Permanent_Match_Tag_No    0.043075\n",
       "Client_Income_Type_Service       0.051688\n",
       "Client_Gender_Female             0.051706\n",
       "Client_City_Rating_3             0.053214\n",
       "Client_Education_Secondary       0.055429\n",
       "Name: Default, Length: 189, dtype: float64"
      ]
     },
     "execution_count": 40,
     "metadata": {},
     "output_type": "execute_result"
    }
   ],
   "source": [
    "pd.get_dummies(train).corr()['Default'].sort_values().iloc[1:-1]"
   ]
  },
  {
   "cell_type": "markdown",
   "metadata": {},
   "source": [
    "I divided the values for both scores into cohorts to group the results."
   ]
  },
  {
   "cell_type": "code",
   "execution_count": 41,
   "metadata": {},
   "outputs": [],
   "source": [
    "def cohort(score):\n",
    "    if score < 0.3:\n",
    "        return '0.3 and lower'\n",
    "    elif score < 0.6:\n",
    "        return '0.3 - 0.6'\n",
    "    else:\n",
    "        return \"over 0.6\""
   ]
  },
  {
   "cell_type": "code",
   "execution_count": 42,
   "metadata": {},
   "outputs": [],
   "source": [
    "train['Score_2 Cohort'] = train['Score_Source_2'].apply(cohort)\n",
    "train['Score_3 Cohort'] = train['Score_Source_3'].apply(cohort)"
   ]
  },
  {
   "cell_type": "code",
   "execution_count": 43,
   "metadata": {},
   "outputs": [
    {
     "data": {
      "text/html": [
       "<div>\n",
       "<style scoped>\n",
       "    .dataframe tbody tr th:only-of-type {\n",
       "        vertical-align: middle;\n",
       "    }\n",
       "\n",
       "    .dataframe tbody tr th {\n",
       "        vertical-align: top;\n",
       "    }\n",
       "\n",
       "    .dataframe thead th {\n",
       "        text-align: right;\n",
       "    }\n",
       "</style>\n",
       "<table border=\"1\" class=\"dataframe\">\n",
       "  <thead>\n",
       "    <tr style=\"text-align: right;\">\n",
       "      <th></th>\n",
       "      <th>Score_Source_2</th>\n",
       "      <th>Score_2 Cohort</th>\n",
       "    </tr>\n",
       "  </thead>\n",
       "  <tbody>\n",
       "    <tr>\n",
       "      <th>0</th>\n",
       "      <td>0.478787</td>\n",
       "      <td>0.3 - 0.6</td>\n",
       "    </tr>\n",
       "    <tr>\n",
       "      <th>1</th>\n",
       "      <td>0.215068</td>\n",
       "      <td>0.3 and lower</td>\n",
       "    </tr>\n",
       "    <tr>\n",
       "      <th>2</th>\n",
       "      <td>0.552795</td>\n",
       "      <td>0.3 - 0.6</td>\n",
       "    </tr>\n",
       "    <tr>\n",
       "      <th>3</th>\n",
       "      <td>0.135182</td>\n",
       "      <td>0.3 and lower</td>\n",
       "    </tr>\n",
       "    <tr>\n",
       "      <th>4</th>\n",
       "      <td>0.301182</td>\n",
       "      <td>0.3 - 0.6</td>\n",
       "    </tr>\n",
       "    <tr>\n",
       "      <th>5</th>\n",
       "      <td>0.697928</td>\n",
       "      <td>over 0.6</td>\n",
       "    </tr>\n",
       "    <tr>\n",
       "      <th>6</th>\n",
       "      <td>0.602545</td>\n",
       "      <td>over 0.6</td>\n",
       "    </tr>\n",
       "    <tr>\n",
       "      <th>7</th>\n",
       "      <td>0.657508</td>\n",
       "      <td>over 0.6</td>\n",
       "    </tr>\n",
       "    <tr>\n",
       "      <th>8</th>\n",
       "      <td>0.637594</td>\n",
       "      <td>over 0.6</td>\n",
       "    </tr>\n",
       "    <tr>\n",
       "      <th>10</th>\n",
       "      <td>0.770343</td>\n",
       "      <td>over 0.6</td>\n",
       "    </tr>\n",
       "  </tbody>\n",
       "</table>\n",
       "</div>"
      ],
      "text/plain": [
       "    Score_Source_2 Score_2 Cohort\n",
       "0         0.478787      0.3 - 0.6\n",
       "1         0.215068  0.3 and lower\n",
       "2         0.552795      0.3 - 0.6\n",
       "3         0.135182  0.3 and lower\n",
       "4         0.301182      0.3 - 0.6\n",
       "5         0.697928       over 0.6\n",
       "6         0.602545       over 0.6\n",
       "7         0.657508       over 0.6\n",
       "8         0.637594       over 0.6\n",
       "10        0.770343       over 0.6"
      ]
     },
     "execution_count": 43,
     "metadata": {},
     "output_type": "execute_result"
    }
   ],
   "source": [
    "train.head(10)[['Score_Source_2','Score_2 Cohort']]"
   ]
  },
  {
   "cell_type": "code",
   "execution_count": 44,
   "metadata": {},
   "outputs": [
    {
     "data": {
      "image/png": "[encoded data removed]",
      "text/plain": [
       "<Figure size 1400x400 with 1 Axes>"
      ]
     },
     "metadata": {
      "needs_background": "light"
     },
     "output_type": "display_data"
    },
    {
     "data": {
      "image/png": "[encoded data removed]",
      "text/plain": [
       "<Figure size 1400x400 with 1 Axes>"
      ]
     },
     "metadata": {
      "needs_background": "light"
     },
     "output_type": "display_data"
    },
    {
     "data": {
      "image/png": "[encoded data removed]",
      "text/plain": [
       "<Figure size 1400x400 with 1 Axes>"
      ]
     },
     "metadata": {
      "needs_background": "light"
     },
     "output_type": "display_data"
    }
   ],
   "source": [
    "plt.figure(figsize=(7,2),dpi=200)\n",
    "sns.countplot(data=train,x='Score_2 Cohort', hue = 'Default', order = ['0.3 and lower', '0.3 - 0.6', 'over 0.6'])\n",
    "plt.show()\n",
    "plt.figure(figsize=(7,2),dpi=200)\n",
    "sns.countplot(data=train,x='Score_3 Cohort', hue = 'Default', order = ['0.3 and lower', '0.3 - 0.6', 'over 0.6'])\n",
    "plt.show()\n",
    "plt.figure(figsize=(7,2),dpi=200)\n",
    "sns.countplot(data=train,x='Client_Education', hue = 'Default')\n",
    "plt.xticks(rotation = 45)\n",
    "plt.show()"
   ]
  },
  {
   "cell_type": "markdown",
   "metadata": {},
   "source": [
    "There is no clear patterns regarding the cohorts that have been created other than the frequency of the event (default or no default) follows the number of actual records. "
   ]
  },
  {
   "cell_type": "markdown",
   "metadata": {},
   "source": [
    "## 3. Model Prediction"
   ]
  },
  {
   "cell_type": "markdown",
   "metadata": {},
   "source": [
    "Decision Tree, Random Forest and AdaBoost have been used to build the relevant model for prediction. As pointed below, none of the above showed the satisfactory prediction power (f1 score below 0.5) meaning that naive model of random choosing if the loan is defaulted would perform better. "
   ]
  },
  {
   "cell_type": "code",
   "execution_count": 45,
   "metadata": {},
   "outputs": [],
   "source": [
    "# creating the X and y(target) variables \n",
    "\n",
    "X = train.drop(['Default'],axis=1)\n",
    "X = pd.get_dummies(X,drop_first=True)\n",
    "\n",
    "y = train['Default']"
   ]
  },
  {
   "cell_type": "code",
   "execution_count": 46,
   "metadata": {},
   "outputs": [],
   "source": [
    "#splitting the data\n",
    "X_train, X_test, y_train, y_test = train_test_split(X, y, test_size=0.1, random_state=101)"
   ]
  },
  {
   "cell_type": "code",
   "execution_count": 47,
   "metadata": {},
   "outputs": [],
   "source": [
    "dt = DecisionTreeClassifier(max_depth=12)"
   ]
  },
  {
   "cell_type": "code",
   "execution_count": 48,
   "metadata": {},
   "outputs": [
    {
     "data": {
      "text/plain": [
       "DecisionTreeClassifier(max_depth=12)"
      ]
     },
     "execution_count": 48,
     "metadata": {},
     "output_type": "execute_result"
    }
   ],
   "source": [
    "dt.fit(X_train,y_train)"
   ]
  },
  {
   "cell_type": "code",
   "execution_count": 49,
   "metadata": {},
   "outputs": [],
   "source": [
    "preds = dt.predict(X_test)"
   ]
  },
  {
   "cell_type": "code",
   "execution_count": 50,
   "metadata": {},
   "outputs": [
    {
     "name": "stdout",
     "output_type": "stream",
     "text": [
      "              precision    recall  f1-score   support\n",
      "\n",
      "           0       0.93      0.99      0.96      9944\n",
      "           1       0.25      0.05      0.08       813\n",
      "\n",
      "    accuracy                           0.92     10757\n",
      "   macro avg       0.59      0.52      0.52     10757\n",
      "weighted avg       0.88      0.92      0.89     10757\n",
      "\n"
     ]
    }
   ],
   "source": [
    "print(classification_report(y_test,preds))"
   ]
  },
  {
   "cell_type": "code",
   "execution_count": 51,
   "metadata": {},
   "outputs": [
    {
     "data": {
      "text/plain": [
       "<sklearn.metrics._plot.confusion_matrix.ConfusionMatrixDisplay at 0x7fb50cc503d0>"
      ]
     },
     "execution_count": 51,
     "metadata": {},
     "output_type": "execute_result"
    },
    {
     "data": {
      "image/png": "[encoded data removed]",
      "text/plain": [
       "<Figure size 432x288 with 2 Axes>"
      ]
     },
     "metadata": {
      "needs_background": "light"
     },
     "output_type": "display_data"
    }
   ],
   "source": [
    "plot_confusion_matrix(dt,X_test,y_test)"
   ]
  },
  {
   "cell_type": "code",
   "execution_count": 52,
   "metadata": {},
   "outputs": [],
   "source": [
    "imp_feats_dt = pd.DataFrame(data=dt.feature_importances_,index=X.columns,columns=['Feature Importance']).sort_values(\"Feature Importance\")\n",
    "imp_feats_dt.sort_values('Feature Importance', ascending=False)"
   ]
  },
  {
   "cell_type": "code",
   "execution_count": 65,
   "metadata": {},
   "outputs": [
    {
     "data": {
      "text/html": [
       "<div>\n",
       "<style scoped>\n",
       "    .dataframe tbody tr th:only-of-type {\n",
       "        vertical-align: middle;\n",
       "    }\n",
       "\n",
       "    .dataframe tbody tr th {\n",
       "        vertical-align: top;\n",
       "    }\n",
       "\n",
       "    .dataframe thead th {\n",
       "        text-align: right;\n",
       "    }\n",
       "</style>\n",
       "<table border=\"1\" class=\"dataframe\">\n",
       "  <thead>\n",
       "    <tr style=\"text-align: right;\">\n",
       "      <th></th>\n",
       "      <th>Feature Importance</th>\n",
       "    </tr>\n",
       "  </thead>\n",
       "  <tbody>\n",
       "    <tr>\n",
       "      <th>Score_Source_2</th>\n",
       "      <td>0.175904</td>\n",
       "    </tr>\n",
       "    <tr>\n",
       "      <th>Score_Source_3</th>\n",
       "      <td>0.170852</td>\n",
       "    </tr>\n",
       "    <tr>\n",
       "      <th>Employed_Days</th>\n",
       "      <td>0.056396</td>\n",
       "    </tr>\n",
       "    <tr>\n",
       "      <th>Age_Days</th>\n",
       "      <td>0.051833</td>\n",
       "    </tr>\n",
       "    <tr>\n",
       "      <th>ID_Days</th>\n",
       "      <td>0.042801</td>\n",
       "    </tr>\n",
       "    <tr>\n",
       "      <th>...</th>\n",
       "      <td>...</td>\n",
       "    </tr>\n",
       "    <tr>\n",
       "      <th>Client_Income_Type_Unemployed</th>\n",
       "      <td>0.000000</td>\n",
       "    </tr>\n",
       "    <tr>\n",
       "      <th>Application_Process_Hour_3</th>\n",
       "      <td>0.000000</td>\n",
       "    </tr>\n",
       "    <tr>\n",
       "      <th>Application_Process_Hour_23</th>\n",
       "      <td>0.000000</td>\n",
       "    </tr>\n",
       "    <tr>\n",
       "      <th>Application_Process_Hour_22</th>\n",
       "      <td>0.000000</td>\n",
       "    </tr>\n",
       "    <tr>\n",
       "      <th>Type_Organization_Police</th>\n",
       "      <td>0.000000</td>\n",
       "    </tr>\n",
       "  </tbody>\n",
       "</table>\n",
       "<p>176 rows × 1 columns</p>\n",
       "</div>"
      ],
      "text/plain": [
       "                               Feature Importance\n",
       "Score_Source_2                           0.175904\n",
       "Score_Source_3                           0.170852\n",
       "Employed_Days                            0.056396\n",
       "Age_Days                                 0.051833\n",
       "ID_Days                                  0.042801\n",
       "...                                           ...\n",
       "Client_Income_Type_Unemployed            0.000000\n",
       "Application_Process_Hour_3               0.000000\n",
       "Application_Process_Hour_23              0.000000\n",
       "Application_Process_Hour_22              0.000000\n",
       "Type_Organization_Police                 0.000000\n",
       "\n",
       "[176 rows x 1 columns]"
      ]
     },
     "execution_count": 65,
     "metadata": {},
     "output_type": "execute_result"
    }
   ],
   "source": []
  },
  {
   "cell_type": "markdown",
   "metadata": {},
   "source": [
    "The highest importance has been attached to the Scores and  Employed and Age Days."
   ]
  },
  {
   "cell_type": "code",
   "execution_count": 54,
   "metadata": {},
   "outputs": [
    {
     "name": "stdout",
     "output_type": "stream",
     "text": [
      "              precision    recall  f1-score   support\n",
      "\n",
      "           0       0.93      1.00      0.97      9944\n",
      "           1       1.00      0.11      0.21       813\n",
      "\n",
      "    accuracy                           0.93     10757\n",
      "   macro avg       0.97      0.56      0.59     10757\n",
      "weighted avg       0.94      0.93      0.91     10757\n",
      "\n"
     ]
    }
   ],
   "source": [
    "rf = RandomForestClassifier(n_estimators=300)\n",
    "\n",
    "rf.fit(X_train,y_train)\n",
    "\n",
    "preds = rf.predict(X_test)\n",
    "\n",
    "print(classification_report(y_test,preds))"
   ]
  },
  {
   "cell_type": "code",
   "execution_count": 66,
   "metadata": {},
   "outputs": [
    {
     "data": {
      "text/html": [
       "<div>\n",
       "<style scoped>\n",
       "    .dataframe tbody tr th:only-of-type {\n",
       "        vertical-align: middle;\n",
       "    }\n",
       "\n",
       "    .dataframe tbody tr th {\n",
       "        vertical-align: top;\n",
       "    }\n",
       "\n",
       "    .dataframe thead th {\n",
       "        text-align: right;\n",
       "    }\n",
       "</style>\n",
       "<table border=\"1\" class=\"dataframe\">\n",
       "  <thead>\n",
       "    <tr style=\"text-align: right;\">\n",
       "      <th></th>\n",
       "      <th>Feature Importance</th>\n",
       "    </tr>\n",
       "  </thead>\n",
       "  <tbody>\n",
       "    <tr>\n",
       "      <th>Score_Source_2</th>\n",
       "      <td>6.255181e-02</td>\n",
       "    </tr>\n",
       "    <tr>\n",
       "      <th>Score_Source_3</th>\n",
       "      <td>5.537991e-02</td>\n",
       "    </tr>\n",
       "    <tr>\n",
       "      <th>ID_Days</th>\n",
       "      <td>5.044950e-02</td>\n",
       "    </tr>\n",
       "    <tr>\n",
       "      <th>Age_Days</th>\n",
       "      <td>5.008915e-02</td>\n",
       "    </tr>\n",
       "    <tr>\n",
       "      <th>Registration_Days</th>\n",
       "      <td>5.002100e-02</td>\n",
       "    </tr>\n",
       "    <tr>\n",
       "      <th>...</th>\n",
       "      <td>...</td>\n",
       "    </tr>\n",
       "    <tr>\n",
       "      <th>Client_Family_Members_15</th>\n",
       "      <td>3.056891e-07</td>\n",
       "    </tr>\n",
       "    <tr>\n",
       "      <th>Client_Family_Members_12</th>\n",
       "      <td>0.000000e+00</td>\n",
       "    </tr>\n",
       "    <tr>\n",
       "      <th>Mobile_Tag_1</th>\n",
       "      <td>0.000000e+00</td>\n",
       "    </tr>\n",
       "    <tr>\n",
       "      <th>Client_Family_Members_14</th>\n",
       "      <td>0.000000e+00</td>\n",
       "    </tr>\n",
       "    <tr>\n",
       "      <th>Client_Income_Type_Maternity leave</th>\n",
       "      <td>0.000000e+00</td>\n",
       "    </tr>\n",
       "  </tbody>\n",
       "</table>\n",
       "<p>176 rows × 1 columns</p>\n",
       "</div>"
      ],
      "text/plain": [
       "                                    Feature Importance\n",
       "Score_Source_2                            6.255181e-02\n",
       "Score_Source_3                            5.537991e-02\n",
       "ID_Days                                   5.044950e-02\n",
       "Age_Days                                  5.008915e-02\n",
       "Registration_Days                         5.002100e-02\n",
       "...                                                ...\n",
       "Client_Family_Members_15                  3.056891e-07\n",
       "Client_Family_Members_12                  0.000000e+00\n",
       "Mobile_Tag_1                              0.000000e+00\n",
       "Client_Family_Members_14                  0.000000e+00\n",
       "Client_Income_Type_Maternity leave        0.000000e+00\n",
       "\n",
       "[176 rows x 1 columns]"
      ]
     },
     "execution_count": 66,
     "metadata": {},
     "output_type": "execute_result"
    }
   ],
   "source": [
    "imp_feats_rf = pd.DataFrame(data=rf.feature_importances_,index=X.columns,columns=['Feature Importance']).sort_values(\"Feature Importance\")\n",
    "imp_feats_rf.sort_values('Feature Importance', ascending=False)"
   ]
  },
  {
   "cell_type": "code",
   "execution_count": 55,
   "metadata": {},
   "outputs": [
    {
     "data": {
      "text/plain": [
       "<sklearn.metrics._plot.confusion_matrix.ConfusionMatrixDisplay at 0x7fb50cc4cb80>"
      ]
     },
     "execution_count": 55,
     "metadata": {},
     "output_type": "execute_result"
    },
    {
     "data": {
      "image/png": "[encoded data removed]",
      "text/plain": [
       "<Figure size 432x288 with 2 Axes>"
      ]
     },
     "metadata": {
      "needs_background": "light"
     },
     "output_type": "display_data"
    }
   ],
   "source": [
    "plot_confusion_matrix(rf,X_test,y_test)"
   ]
  },
  {
   "cell_type": "code",
   "execution_count": 56,
   "metadata": {},
   "outputs": [],
   "source": [
    "ada_model = AdaBoostClassifier()"
   ]
  },
  {
   "cell_type": "code",
   "execution_count": 57,
   "metadata": {},
   "outputs": [],
   "source": [
    "ada_model.fit(X_train,y_train)\n",
    "\n",
    "preds = ada_model.predict(X_test)"
   ]
  },
  {
   "cell_type": "code",
   "execution_count": 67,
   "metadata": {},
   "outputs": [
    {
     "data": {
      "text/html": [
       "<div>\n",
       "<style scoped>\n",
       "    .dataframe tbody tr th:only-of-type {\n",
       "        vertical-align: middle;\n",
       "    }\n",
       "\n",
       "    .dataframe tbody tr th {\n",
       "        vertical-align: top;\n",
       "    }\n",
       "\n",
       "    .dataframe thead th {\n",
       "        text-align: right;\n",
       "    }\n",
       "</style>\n",
       "<table border=\"1\" class=\"dataframe\">\n",
       "  <thead>\n",
       "    <tr style=\"text-align: right;\">\n",
       "      <th></th>\n",
       "      <th>Feature Importance</th>\n",
       "    </tr>\n",
       "  </thead>\n",
       "  <tbody>\n",
       "    <tr>\n",
       "      <th>Score_Source_3</th>\n",
       "      <td>0.16</td>\n",
       "    </tr>\n",
       "    <tr>\n",
       "      <th>Score_Source_2</th>\n",
       "      <td>0.14</td>\n",
       "    </tr>\n",
       "    <tr>\n",
       "      <th>Age_Days</th>\n",
       "      <td>0.08</td>\n",
       "    </tr>\n",
       "    <tr>\n",
       "      <th>Credit_Amount</th>\n",
       "      <td>0.06</td>\n",
       "    </tr>\n",
       "    <tr>\n",
       "      <th>Client_Gender_Male</th>\n",
       "      <td>0.04</td>\n",
       "    </tr>\n",
       "    <tr>\n",
       "      <th>...</th>\n",
       "      <td>...</td>\n",
       "    </tr>\n",
       "    <tr>\n",
       "      <th>Type_Organization_Security</th>\n",
       "      <td>0.00</td>\n",
       "    </tr>\n",
       "    <tr>\n",
       "      <th>Type_Organization_School</th>\n",
       "      <td>0.00</td>\n",
       "    </tr>\n",
       "    <tr>\n",
       "      <th>Type_Organization_Restaurant</th>\n",
       "      <td>0.00</td>\n",
       "    </tr>\n",
       "    <tr>\n",
       "      <th>Type_Organization_Religion</th>\n",
       "      <td>0.00</td>\n",
       "    </tr>\n",
       "    <tr>\n",
       "      <th>Client_Occupation_Cleaning</th>\n",
       "      <td>0.00</td>\n",
       "    </tr>\n",
       "  </tbody>\n",
       "</table>\n",
       "<p>176 rows × 1 columns</p>\n",
       "</div>"
      ],
      "text/plain": [
       "                              Feature Importance\n",
       "Score_Source_3                              0.16\n",
       "Score_Source_2                              0.14\n",
       "Age_Days                                    0.08\n",
       "Credit_Amount                               0.06\n",
       "Client_Gender_Male                          0.04\n",
       "...                                          ...\n",
       "Type_Organization_Security                  0.00\n",
       "Type_Organization_School                    0.00\n",
       "Type_Organization_Restaurant                0.00\n",
       "Type_Organization_Religion                  0.00\n",
       "Client_Occupation_Cleaning                  0.00\n",
       "\n",
       "[176 rows x 1 columns]"
      ]
     },
     "execution_count": 67,
     "metadata": {},
     "output_type": "execute_result"
    }
   ],
   "source": [
    "imp_feats_ada = pd.DataFrame(data=ada_model.feature_importances_,index=X.columns,columns=['Feature Importance']).sort_values(\"Feature Importance\")\n",
    "imp_feats_ada.sort_values('Feature Importance', ascending=False)"
   ]
  },
  {
   "cell_type": "code",
   "execution_count": 58,
   "metadata": {},
   "outputs": [
    {
     "name": "stdout",
     "output_type": "stream",
     "text": [
      "              precision    recall  f1-score   support\n",
      "\n",
      "           0       0.93      1.00      0.96      9944\n",
      "           1       0.57      0.03      0.05       813\n",
      "\n",
      "    accuracy                           0.92     10757\n",
      "   macro avg       0.75      0.51      0.51     10757\n",
      "weighted avg       0.90      0.92      0.89     10757\n",
      "\n"
     ]
    }
   ],
   "source": [
    "print(classification_report(y_test,preds))"
   ]
  },
  {
   "cell_type": "code",
   "execution_count": 59,
   "metadata": {},
   "outputs": [
    {
     "data": {
      "text/plain": [
       "<sklearn.metrics._plot.confusion_matrix.ConfusionMatrixDisplay at 0x7fb50c442880>"
      ]
     },
     "execution_count": 59,
     "metadata": {},
     "output_type": "execute_result"
    },
    {
     "data": {
      "image/png": "[encoded data removed]",
      "text/plain": [
       "<Figure size 432x288 with 2 Axes>"
      ]
     },
     "metadata": {
      "needs_background": "light"
     },
     "output_type": "display_data"
    }
   ],
   "source": [
    "plot_confusion_matrix(ada_model,X_test,y_test)"
   ]
  },
  {
   "cell_type": "code",
   "execution_count": null,
   "metadata": {},
   "outputs": [],
   "source": []
  }
 ],
 "metadata": {
  "kernelspec": {
   "display_name": "Python 3",
   "language": "python",
   "name": "python3"
  },
  "language_info": {
   "codemirror_mode": {
    "name": "ipython",
    "version": 3
   },
   "file_extension": ".py",
   "mimetype": "text/x-python",
   "name": "python",
   "nbconvert_exporter": "python",
   "pygments_lexer": "ipython3",
   "version": "3.8.5"
  },
  "toc": {
   "base_numbering": 1,
   "nav_menu": {},
   "number_sections": false,
   "sideBar": true,
   "skip_h1_title": true,
   "title_cell": "Table of Contents",
   "title_sidebar": "Contents",
   "toc_cell": false,
   "toc_position": {
    "height": "calc(100% - 180px)",
    "left": "10px",
    "top": "150px",
    "width": "165px"
   },
   "toc_section_display": true,
   "toc_window_display": false
  },
  "varInspector": {
   "cols": {
    "lenName": 16,
    "lenType": 16,
    "lenVar": 40
   },
   "kernels_config": {
    "python": {
     "delete_cmd_postfix": "",
     "delete_cmd_prefix": "del ",
     "library": "var_list.py",
     "varRefreshCmd": "print(var_dic_list())"
    },
    "r": {
     "delete_cmd_postfix": ") ",
     "delete_cmd_prefix": "rm(",
     "library": "var_list.r",
     "varRefreshCmd": "cat(var_dic_list()) "
    }
   },
   "types_to_exclude": [
    "module",
    "function",
    "builtin_function_or_method",
    "instance",
    "_Feature"
   ],
   "window_display": false
  }
 },
 "nbformat": 4,
 "nbformat_minor": 4
}
